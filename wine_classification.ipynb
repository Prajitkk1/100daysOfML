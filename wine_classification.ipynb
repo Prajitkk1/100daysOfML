{
  "cells": [
    {
      "metadata": {
        "trusted": true
      },
      "cell_type": "code",
      "source": "import keras",
      "execution_count": 95,
      "outputs": []
    },
    {
      "metadata": {
        "trusted": true
      },
      "cell_type": "code",
      "source": "import numpy as np\nimport pandas as pd\nfrom sklearn.preprocessing import LabelEncoder\nfrom sklearn.model_selection import cross_val_score\nfrom sklearn.model_selection import KFold\nfrom keras.wrappers.scikit_learn import KerasClassifier",
      "execution_count": 96,
      "outputs": []
    },
    {
      "metadata": {
        "trusted": true
      },
      "cell_type": "code",
      "source": "!ls ~/library",
      "execution_count": 97,
      "outputs": [
        {
          "output_type": "stream",
          "text": "banknote_dataset.csv\t    README.md\t      winequality-white.csv\r\nbank_note_validation.ipynb  Untitled 1.ipynb\r\n",
          "name": "stdout"
        }
      ]
    },
    {
      "metadata": {
        "trusted": true
      },
      "cell_type": "code",
      "source": "dataset = pd.read_csv(\"~/library/winequality-white.csv\",sep=\";\")",
      "execution_count": 98,
      "outputs": []
    },
    {
      "metadata": {
        "trusted": true
      },
      "cell_type": "code",
      "source": "dataset.describe()",
      "execution_count": 99,
      "outputs": [
        {
          "output_type": "execute_result",
          "execution_count": 99,
          "data": {
            "text/html": "<div>\n<style scoped>\n    .dataframe tbody tr th:only-of-type {\n        vertical-align: middle;\n    }\n\n    .dataframe tbody tr th {\n        vertical-align: top;\n    }\n\n    .dataframe thead th {\n        text-align: right;\n    }\n</style>\n<table border=\"1\" class=\"dataframe\">\n  <thead>\n    <tr style=\"text-align: right;\">\n      <th></th>\n      <th>fixed acidity</th>\n      <th>volatile acidity</th>\n      <th>citric acid</th>\n      <th>residual sugar</th>\n      <th>chlorides</th>\n      <th>free sulfur dioxide</th>\n      <th>total sulfur dioxide</th>\n      <th>density</th>\n      <th>pH</th>\n      <th>sulphates</th>\n      <th>alcohol</th>\n      <th>quality</th>\n    </tr>\n  </thead>\n  <tbody>\n    <tr>\n      <th>count</th>\n      <td>4898.000000</td>\n      <td>4898.000000</td>\n      <td>4898.000000</td>\n      <td>4898.000000</td>\n      <td>4898.000000</td>\n      <td>4898.000000</td>\n      <td>4898.000000</td>\n      <td>4898.000000</td>\n      <td>4898.000000</td>\n      <td>4898.000000</td>\n      <td>4898.000000</td>\n      <td>4898.000000</td>\n    </tr>\n    <tr>\n      <th>mean</th>\n      <td>6.854788</td>\n      <td>0.278241</td>\n      <td>0.334192</td>\n      <td>6.391415</td>\n      <td>0.045772</td>\n      <td>35.308085</td>\n      <td>138.360657</td>\n      <td>0.994027</td>\n      <td>3.188267</td>\n      <td>0.489847</td>\n      <td>10.514267</td>\n      <td>5.877909</td>\n    </tr>\n    <tr>\n      <th>std</th>\n      <td>0.843868</td>\n      <td>0.100795</td>\n      <td>0.121020</td>\n      <td>5.072058</td>\n      <td>0.021848</td>\n      <td>17.007137</td>\n      <td>42.498065</td>\n      <td>0.002991</td>\n      <td>0.151001</td>\n      <td>0.114126</td>\n      <td>1.230621</td>\n      <td>0.885639</td>\n    </tr>\n    <tr>\n      <th>min</th>\n      <td>3.800000</td>\n      <td>0.080000</td>\n      <td>0.000000</td>\n      <td>0.600000</td>\n      <td>0.009000</td>\n      <td>2.000000</td>\n      <td>9.000000</td>\n      <td>0.987110</td>\n      <td>2.720000</td>\n      <td>0.220000</td>\n      <td>8.000000</td>\n      <td>3.000000</td>\n    </tr>\n    <tr>\n      <th>25%</th>\n      <td>6.300000</td>\n      <td>0.210000</td>\n      <td>0.270000</td>\n      <td>1.700000</td>\n      <td>0.036000</td>\n      <td>23.000000</td>\n      <td>108.000000</td>\n      <td>0.991723</td>\n      <td>3.090000</td>\n      <td>0.410000</td>\n      <td>9.500000</td>\n      <td>5.000000</td>\n    </tr>\n    <tr>\n      <th>50%</th>\n      <td>6.800000</td>\n      <td>0.260000</td>\n      <td>0.320000</td>\n      <td>5.200000</td>\n      <td>0.043000</td>\n      <td>34.000000</td>\n      <td>134.000000</td>\n      <td>0.993740</td>\n      <td>3.180000</td>\n      <td>0.470000</td>\n      <td>10.400000</td>\n      <td>6.000000</td>\n    </tr>\n    <tr>\n      <th>75%</th>\n      <td>7.300000</td>\n      <td>0.320000</td>\n      <td>0.390000</td>\n      <td>9.900000</td>\n      <td>0.050000</td>\n      <td>46.000000</td>\n      <td>167.000000</td>\n      <td>0.996100</td>\n      <td>3.280000</td>\n      <td>0.550000</td>\n      <td>11.400000</td>\n      <td>6.000000</td>\n    </tr>\n    <tr>\n      <th>max</th>\n      <td>14.200000</td>\n      <td>1.100000</td>\n      <td>1.660000</td>\n      <td>65.800000</td>\n      <td>0.346000</td>\n      <td>289.000000</td>\n      <td>440.000000</td>\n      <td>1.038980</td>\n      <td>3.820000</td>\n      <td>1.080000</td>\n      <td>14.200000</td>\n      <td>9.000000</td>\n    </tr>\n  </tbody>\n</table>\n</div>",
            "text/plain": "       fixed acidity  volatile acidity  citric acid  residual sugar  \\\ncount    4898.000000       4898.000000  4898.000000     4898.000000   \nmean        6.854788          0.278241     0.334192        6.391415   \nstd         0.843868          0.100795     0.121020        5.072058   \nmin         3.800000          0.080000     0.000000        0.600000   \n25%         6.300000          0.210000     0.270000        1.700000   \n50%         6.800000          0.260000     0.320000        5.200000   \n75%         7.300000          0.320000     0.390000        9.900000   \nmax        14.200000          1.100000     1.660000       65.800000   \n\n         chlorides  free sulfur dioxide  total sulfur dioxide      density  \\\ncount  4898.000000          4898.000000           4898.000000  4898.000000   \nmean      0.045772            35.308085            138.360657     0.994027   \nstd       0.021848            17.007137             42.498065     0.002991   \nmin       0.009000             2.000000              9.000000     0.987110   \n25%       0.036000            23.000000            108.000000     0.991723   \n50%       0.043000            34.000000            134.000000     0.993740   \n75%       0.050000            46.000000            167.000000     0.996100   \nmax       0.346000           289.000000            440.000000     1.038980   \n\n                pH    sulphates      alcohol      quality  \ncount  4898.000000  4898.000000  4898.000000  4898.000000  \nmean      3.188267     0.489847    10.514267     5.877909  \nstd       0.151001     0.114126     1.230621     0.885639  \nmin       2.720000     0.220000     8.000000     3.000000  \n25%       3.090000     0.410000     9.500000     5.000000  \n50%       3.180000     0.470000    10.400000     6.000000  \n75%       3.280000     0.550000    11.400000     6.000000  \nmax       3.820000     1.080000    14.200000     9.000000  "
          },
          "metadata": {}
        }
      ]
    },
    {
      "metadata": {
        "trusted": true
      },
      "cell_type": "code",
      "source": "print(dataset.isnull().sum())",
      "execution_count": 100,
      "outputs": [
        {
          "output_type": "stream",
          "text": "fixed acidity           0\nvolatile acidity        0\ncitric acid             0\nresidual sugar          0\nchlorides               0\nfree sulfur dioxide     0\ntotal sulfur dioxide    0\ndensity                 0\npH                      0\nsulphates               0\nalcohol                 0\nquality                 0\ndtype: int64\n",
          "name": "stdout"
        }
      ]
    },
    {
      "metadata": {
        "trusted": true
      },
      "cell_type": "code",
      "source": "X = dataset.iloc[:,0:11].values",
      "execution_count": 101,
      "outputs": []
    },
    {
      "metadata": {
        "trusted": true
      },
      "cell_type": "code",
      "source": "Y = dataset.iloc[:,11].values\nY = [(round(each / 10)) for each in Y]",
      "execution_count": 120,
      "outputs": []
    },
    {
      "metadata": {
        "trusted": true
      },
      "cell_type": "code",
      "source": "from sklearn.model_selection import train_test_split",
      "execution_count": 121,
      "outputs": []
    },
    {
      "metadata": {
        "trusted": true
      },
      "cell_type": "code",
      "source": "X_train,X_test,Y_train,Y_test = train_test_split(X,Y,test_size = 0.25,random_state = 0)",
      "execution_count": 122,
      "outputs": []
    },
    {
      "metadata": {
        "trusted": true
      },
      "cell_type": "code",
      "source": "import keras",
      "execution_count": 123,
      "outputs": []
    },
    {
      "metadata": {
        "trusted": true
      },
      "cell_type": "code",
      "source": "from keras.models import Sequential",
      "execution_count": 124,
      "outputs": []
    },
    {
      "metadata": {
        "trusted": true
      },
      "cell_type": "code",
      "source": "from keras.layers import Dense",
      "execution_count": 125,
      "outputs": []
    },
    {
      "metadata": {
        "trusted": true
      },
      "cell_type": "code",
      "source": "classifier = Sequential()",
      "execution_count": 126,
      "outputs": []
    },
    {
      "metadata": {
        "trusted": true
      },
      "cell_type": "code",
      "source": "classifier.add(Dense(output_dim=6,activation = 'relu', input_dim = 11))",
      "execution_count": 127,
      "outputs": [
        {
          "output_type": "stream",
          "text": "/home/nbuser/anaconda3_501/lib/python3.6/site-packages/ipykernel/__main__.py:1: UserWarning: Update your `Dense` call to the Keras 2 API: `Dense(activation=\"relu\", input_dim=11, units=6)`\n  if __name__ == '__main__':\n",
          "name": "stderr"
        }
      ]
    },
    {
      "metadata": {
        "trusted": true
      },
      "cell_type": "code",
      "source": "classifier.add(Dense(output_dim=6,activation='relu'))",
      "execution_count": 128,
      "outputs": [
        {
          "output_type": "stream",
          "text": "/home/nbuser/anaconda3_501/lib/python3.6/site-packages/ipykernel/__main__.py:1: UserWarning: Update your `Dense` call to the Keras 2 API: `Dense(activation=\"relu\", units=6)`\n  if __name__ == '__main__':\n",
          "name": "stderr"
        }
      ]
    },
    {
      "metadata": {
        "trusted": true
      },
      "cell_type": "code",
      "source": "classifier.add(Dense(output_dim=6,activation='relu'))",
      "execution_count": 129,
      "outputs": [
        {
          "output_type": "stream",
          "text": "/home/nbuser/anaconda3_501/lib/python3.6/site-packages/ipykernel/__main__.py:1: UserWarning: Update your `Dense` call to the Keras 2 API: `Dense(activation=\"relu\", units=6)`\n  if __name__ == '__main__':\n",
          "name": "stderr"
        }
      ]
    },
    {
      "metadata": {
        "trusted": true
      },
      "cell_type": "code",
      "source": "classifier.add(Dense(output_dim=1,activation='sigmoid'))",
      "execution_count": 130,
      "outputs": [
        {
          "output_type": "stream",
          "text": "/home/nbuser/anaconda3_501/lib/python3.6/site-packages/ipykernel/__main__.py:1: UserWarning: Update your `Dense` call to the Keras 2 API: `Dense(activation=\"sigmoid\", units=1)`\n  if __name__ == '__main__':\n",
          "name": "stderr"
        }
      ]
    },
    {
      "metadata": {
        "trusted": true
      },
      "cell_type": "code",
      "source": "classifier.compile(optimizer = 'adam',loss = 'binary_crossentropy', metrics=['accuracy'])",
      "execution_count": 131,
      "outputs": []
    },
    {
      "metadata": {
        "trusted": true
      },
      "cell_type": "code",
      "source": "classifier.fit(X_train, Y_train, nb_epoch=500)",
      "execution_count": 132,
      "outputs": [
        {
          "output_type": "stream",
          "text": "/home/nbuser/anaconda3_501/lib/python3.6/site-packages/ipykernel/__main__.py:1: UserWarning: The `nb_epoch` argument in `fit` has been renamed `epochs`.\n  if __name__ == '__main__':\n",
          "name": "stderr"
        },
        {
          "output_type": "stream",
          "text": "Epoch 1/500\n3673/3673 [==============================] - 1s 182us/step - loss: 1.1829 - acc: 0.5527\nEpoch 2/500\n3673/3673 [==============================] - 0s 48us/step - loss: 0.6595 - acc: 0.6736\nEpoch 3/500\n3673/3673 [==============================] - 0s 51us/step - loss: 0.6381 - acc: 0.6736\nEpoch 4/500\n3673/3673 [==============================] - 0s 50us/step - loss: 0.6269 - acc: 0.6736\nEpoch 5/500\n3673/3673 [==============================] - 0s 86us/step - loss: 0.6179 - acc: 0.6736\nEpoch 6/500\n3673/3673 [==============================] - 0s 69us/step - loss: 0.6012 - acc: 0.6741\nEpoch 7/500\n3673/3673 [==============================] - 0s 75us/step - loss: 0.5837 - acc: 0.6736\nEpoch 8/500\n3673/3673 [==============================] - 0s 66us/step - loss: 0.5802 - acc: 0.6757\nEpoch 9/500\n3673/3673 [==============================] - 0s 65us/step - loss: 0.5819 - acc: 0.6787\nEpoch 10/500\n3673/3673 [==============================] - 0s 56us/step - loss: 0.5787 - acc: 0.6801\nEpoch 11/500\n3673/3673 [==============================] - 0s 51us/step - loss: 0.5706 - acc: 0.6793\nEpoch 12/500\n3673/3673 [==============================] - 0s 51us/step - loss: 0.5737 - acc: 0.6782\nEpoch 13/500\n3673/3673 [==============================] - 0s 50us/step - loss: 0.5753 - acc: 0.6760\nEpoch 14/500\n3673/3673 [==============================] - 0s 64us/step - loss: 0.5724 - acc: 0.6790\nEpoch 15/500\n3673/3673 [==============================] - 0s 52us/step - loss: 0.5693 - acc: 0.6845\nEpoch 16/500\n3673/3673 [==============================] - 0s 56us/step - loss: 0.5678 - acc: 0.6855: 0s - loss: 0.5697 - acc: 0.681\nEpoch 17/500\n3673/3673 [==============================] - 0s 55us/step - loss: 0.5633 - acc: 0.6845\nEpoch 18/500\n3673/3673 [==============================] - 0s 51us/step - loss: 0.5628 - acc: 0.6921\nEpoch 19/500\n3673/3673 [==============================] - 0s 50us/step - loss: 0.5627 - acc: 0.6973\nEpoch 20/500\n3673/3673 [==============================] - 0s 48us/step - loss: 0.5635 - acc: 0.6959\nEpoch 21/500\n3673/3673 [==============================] - 0s 51us/step - loss: 0.5612 - acc: 0.6953\nEpoch 22/500\n3673/3673 [==============================] - 0s 49us/step - loss: 0.5635 - acc: 0.6883\nEpoch 23/500\n3673/3673 [==============================] - 0s 49us/step - loss: 0.5662 - acc: 0.6904\nEpoch 24/500\n3673/3673 [==============================] - 0s 49us/step - loss: 0.5583 - acc: 0.6959\nEpoch 25/500\n3673/3673 [==============================] - 0s 53us/step - loss: 0.5587 - acc: 0.6945\nEpoch 26/500\n3673/3673 [==============================] - 0s 51us/step - loss: 0.5569 - acc: 0.6959\nEpoch 27/500\n3673/3673 [==============================] - 0s 49us/step - loss: 0.5629 - acc: 0.6877\nEpoch 28/500\n3673/3673 [==============================] - 0s 46us/step - loss: 0.5685 - acc: 0.6858\nEpoch 29/500\n3673/3673 [==============================] - 0s 53us/step - loss: 0.5554 - acc: 0.6932\nEpoch 30/500\n3673/3673 [==============================] - 0s 53us/step - loss: 0.5567 - acc: 0.6945\nEpoch 31/500\n3673/3673 [==============================] - 0s 54us/step - loss: 0.5617 - acc: 0.6861\nEpoch 32/500\n3673/3673 [==============================] - 0s 53us/step - loss: 0.5549 - acc: 0.6932\nEpoch 33/500\n3673/3673 [==============================] - 0s 52us/step - loss: 0.5546 - acc: 0.6861\nEpoch 34/500\n3673/3673 [==============================] - 0s 49us/step - loss: 0.5536 - acc: 0.6934\nEpoch 35/500\n3673/3673 [==============================] - 0s 52us/step - loss: 0.5529 - acc: 0.6970\nEpoch 36/500\n3673/3673 [==============================] - 0s 48us/step - loss: 0.5533 - acc: 0.6915\nEpoch 37/500\n3673/3673 [==============================] - 0s 50us/step - loss: 0.5534 - acc: 0.6967\nEpoch 38/500\n3673/3673 [==============================] - 0s 65us/step - loss: 0.5472 - acc: 0.6981\nEpoch 39/500\n3673/3673 [==============================] - 0s 49us/step - loss: 0.5470 - acc: 0.7100\nEpoch 40/500\n3673/3673 [==============================] - 0s 53us/step - loss: 0.5493 - acc: 0.7128\nEpoch 41/500\n3673/3673 [==============================] - 0s 51us/step - loss: 0.5544 - acc: 0.6937\nEpoch 42/500\n3673/3673 [==============================] - 0s 60us/step - loss: 0.5461 - acc: 0.7032\nEpoch 43/500\n3673/3673 [==============================] - 0s 73us/step - loss: 0.5513 - acc: 0.6932\nEpoch 44/500\n3673/3673 [==============================] - 0s 49us/step - loss: 0.5462 - acc: 0.7011\nEpoch 45/500\n3673/3673 [==============================] - 0s 62us/step - loss: 0.5463 - acc: 0.6956\nEpoch 46/500\n3673/3673 [==============================] - 0s 58us/step - loss: 0.5469 - acc: 0.6959\nEpoch 47/500\n3673/3673 [==============================] - 0s 55us/step - loss: 0.5460 - acc: 0.6992\nEpoch 48/500\n3673/3673 [==============================] - 0s 53us/step - loss: 0.5434 - acc: 0.7051\nEpoch 49/500\n3673/3673 [==============================] - 0s 51us/step - loss: 0.5443 - acc: 0.6945\nEpoch 50/500\n3673/3673 [==============================] - 0s 50us/step - loss: 0.5413 - acc: 0.7030\nEpoch 51/500\n3673/3673 [==============================] - 0s 48us/step - loss: 0.5400 - acc: 0.7046\nEpoch 52/500\n3673/3673 [==============================] - 0s 50us/step - loss: 0.5402 - acc: 0.7027\nEpoch 53/500\n3673/3673 [==============================] - 0s 46us/step - loss: 0.5398 - acc: 0.6973\nEpoch 54/500\n3673/3673 [==============================] - 0s 50us/step - loss: 0.5349 - acc: 0.7038\nEpoch 55/500\n3673/3673 [==============================] - 0s 48us/step - loss: 0.5390 - acc: 0.7035\nEpoch 56/500\n3673/3673 [==============================] - 0s 48us/step - loss: 0.5338 - acc: 0.7062\nEpoch 57/500\n3673/3673 [==============================] - 0s 48us/step - loss: 0.5378 - acc: 0.7027\nEpoch 58/500\n3673/3673 [==============================] - 0s 53us/step - loss: 0.5361 - acc: 0.7022\nEpoch 59/500\n3673/3673 [==============================] - 0s 51us/step - loss: 0.5344 - acc: 0.7049\nEpoch 60/500\n3673/3673 [==============================] - 0s 47us/step - loss: 0.5375 - acc: 0.6992\nEpoch 61/500\n3673/3673 [==============================] - 0s 51us/step - loss: 0.5395 - acc: 0.7030\nEpoch 62/500\n3673/3673 [==============================] - 0s 53us/step - loss: 0.5291 - acc: 0.7122\nEpoch 63/500\n3673/3673 [==============================] - 0s 54us/step - loss: 0.5243 - acc: 0.7133\nEpoch 64/500\n3673/3673 [==============================] - 0s 65us/step - loss: 0.5258 - acc: 0.6997\nEpoch 65/500\n3673/3673 [==============================] - 0s 60us/step - loss: 0.5282 - acc: 0.7060\nEpoch 66/500\n3673/3673 [==============================] - 0s 52us/step - loss: 0.5299 - acc: 0.7030\nEpoch 67/500\n3673/3673 [==============================] - 0s 53us/step - loss: 0.5286 - acc: 0.7117\nEpoch 68/500\n3673/3673 [==============================] - 0s 65us/step - loss: 0.5238 - acc: 0.7234\nEpoch 69/500\n3673/3673 [==============================] - 0s 53us/step - loss: 0.5286 - acc: 0.7147\nEpoch 70/500\n3673/3673 [==============================] - 0s 52us/step - loss: 0.5244 - acc: 0.7125\nEpoch 71/500\n3673/3673 [==============================] - 0s 53us/step - loss: 0.5205 - acc: 0.7237\nEpoch 72/500\n3673/3673 [==============================] - 0s 51us/step - loss: 0.5173 - acc: 0.7212\nEpoch 73/500\n3673/3673 [==============================] - 0s 51us/step - loss: 0.5242 - acc: 0.7152\nEpoch 74/500\n3673/3673 [==============================] - 0s 50us/step - loss: 0.5322 - acc: 0.7098\nEpoch 75/500\n3673/3673 [==============================] - 0s 53us/step - loss: 0.5157 - acc: 0.7267\nEpoch 76/500\n3673/3673 [==============================] - 0s 51us/step - loss: 0.5246 - acc: 0.7120\nEpoch 77/500\n3673/3673 [==============================] - 0s 53us/step - loss: 0.5185 - acc: 0.7267\nEpoch 78/500\n3673/3673 [==============================] - 0s 52us/step - loss: 0.5130 - acc: 0.7231\nEpoch 79/500\n3673/3673 [==============================] - 0s 48us/step - loss: 0.5171 - acc: 0.7288\nEpoch 80/500\n3673/3673 [==============================] - 0s 48us/step - loss: 0.5187 - acc: 0.7231\nEpoch 81/500\n3673/3673 [==============================] - 0s 46us/step - loss: 0.5290 - acc: 0.7136\nEpoch 82/500\n",
          "name": "stdout"
        },
        {
          "output_type": "stream",
          "text": "3673/3673 [==============================] - 0s 53us/step - loss: 0.5133 - acc: 0.7356\nEpoch 83/500\n3673/3673 [==============================] - 0s 50us/step - loss: 0.5115 - acc: 0.7302\nEpoch 84/500\n3673/3673 [==============================] - 0s 48us/step - loss: 0.5207 - acc: 0.7188\nEpoch 85/500\n3673/3673 [==============================] - 0s 47us/step - loss: 0.5139 - acc: 0.7264\nEpoch 86/500\n3673/3673 [==============================] - 0s 56us/step - loss: 0.5125 - acc: 0.7223\nEpoch 87/500\n3673/3673 [==============================] - 0s 47us/step - loss: 0.5097 - acc: 0.7373\nEpoch 88/500\n3673/3673 [==============================] - 0s 49us/step - loss: 0.5140 - acc: 0.7267\nEpoch 89/500\n3673/3673 [==============================] - 0s 62us/step - loss: 0.5097 - acc: 0.7332\nEpoch 90/500\n3673/3673 [==============================] - 0s 52us/step - loss: 0.5111 - acc: 0.7381\nEpoch 91/500\n3673/3673 [==============================] - 0s 54us/step - loss: 0.5103 - acc: 0.7343\nEpoch 92/500\n3673/3673 [==============================] - 0s 59us/step - loss: 0.5058 - acc: 0.7392\nEpoch 93/500\n3673/3673 [==============================] - 0s 48us/step - loss: 0.5097 - acc: 0.7332\nEpoch 94/500\n3673/3673 [==============================] - 0s 48us/step - loss: 0.5038 - acc: 0.7430\nEpoch 95/500\n3673/3673 [==============================] - 0s 51us/step - loss: 0.5131 - acc: 0.7359\nEpoch 96/500\n3673/3673 [==============================] - 0s 49us/step - loss: 0.5100 - acc: 0.7313\nEpoch 97/500\n3673/3673 [==============================] - 0s 51us/step - loss: 0.5233 - acc: 0.7204\nEpoch 98/500\n3673/3673 [==============================] - 0s 53us/step - loss: 0.5076 - acc: 0.7291\nEpoch 99/500\n3673/3673 [==============================] - 0s 59us/step - loss: 0.5141 - acc: 0.7247\nEpoch 100/500\n3673/3673 [==============================] - 0s 48us/step - loss: 0.5144 - acc: 0.7247\nEpoch 101/500\n3673/3673 [==============================] - 0s 57us/step - loss: 0.5069 - acc: 0.7365\nEpoch 102/500\n3673/3673 [==============================] - 0s 62us/step - loss: 0.5102 - acc: 0.7365\nEpoch 103/500\n3673/3673 [==============================] - 0s 80us/step - loss: 0.5115 - acc: 0.7272\nEpoch 104/500\n3673/3673 [==============================] - 0s 74us/step - loss: 0.5052 - acc: 0.7367\nEpoch 105/500\n3673/3673 [==============================] - 0s 65us/step - loss: 0.5012 - acc: 0.7427\nEpoch 106/500\n3673/3673 [==============================] - 0s 54us/step - loss: 0.5025 - acc: 0.7392\nEpoch 107/500\n3673/3673 [==============================] - 0s 50us/step - loss: 0.5058 - acc: 0.7454\nEpoch 108/500\n3673/3673 [==============================] - 0s 46us/step - loss: 0.5001 - acc: 0.7446\nEpoch 109/500\n3673/3673 [==============================] - 0s 66us/step - loss: 0.5030 - acc: 0.7424\nEpoch 110/500\n3673/3673 [==============================] - 0s 49us/step - loss: 0.5100 - acc: 0.7299\nEpoch 111/500\n3673/3673 [==============================] - 0s 51us/step - loss: 0.5090 - acc: 0.7321\nEpoch 112/500\n3673/3673 [==============================] - 0s 51us/step - loss: 0.5138 - acc: 0.7375\nEpoch 113/500\n3673/3673 [==============================] - 0s 53us/step - loss: 0.5056 - acc: 0.7354\nEpoch 114/500\n3673/3673 [==============================] - 0s 56us/step - loss: 0.5048 - acc: 0.7296\nEpoch 115/500\n3673/3673 [==============================] - 0s 50us/step - loss: 0.4990 - acc: 0.7427\nEpoch 116/500\n3673/3673 [==============================] - 0s 49us/step - loss: 0.5006 - acc: 0.7419\nEpoch 117/500\n3673/3673 [==============================] - 0s 53us/step - loss: 0.4994 - acc: 0.7435\nEpoch 118/500\n3673/3673 [==============================] - 0s 49us/step - loss: 0.5056 - acc: 0.7367\nEpoch 119/500\n3673/3673 [==============================] - 0s 54us/step - loss: 0.5029 - acc: 0.7370\nEpoch 120/500\n3673/3673 [==============================] - 0s 48us/step - loss: 0.5095 - acc: 0.7348\nEpoch 121/500\n3673/3673 [==============================] - 0s 52us/step - loss: 0.5166 - acc: 0.7329\nEpoch 122/500\n3673/3673 [==============================] - 0s 61us/step - loss: 0.5033 - acc: 0.7332\nEpoch 123/500\n3673/3673 [==============================] - 0s 66us/step - loss: 0.5117 - acc: 0.7310\nEpoch 124/500\n3673/3673 [==============================] - 0s 58us/step - loss: 0.5132 - acc: 0.7247\nEpoch 125/500\n3673/3673 [==============================] - 0s 52us/step - loss: 0.5116 - acc: 0.7288\nEpoch 126/500\n3673/3673 [==============================] - 0s 50us/step - loss: 0.5071 - acc: 0.7392\nEpoch 127/500\n3673/3673 [==============================] - 0s 47us/step - loss: 0.5192 - acc: 0.7188\nEpoch 128/500\n3673/3673 [==============================] - 0s 53us/step - loss: 0.5220 - acc: 0.7253\nEpoch 129/500\n3673/3673 [==============================] - 0s 50us/step - loss: 0.5012 - acc: 0.7444\nEpoch 130/500\n3673/3673 [==============================] - 0s 49us/step - loss: 0.4998 - acc: 0.7446\nEpoch 131/500\n3673/3673 [==============================] - 0s 50us/step - loss: 0.5031 - acc: 0.7397\nEpoch 132/500\n3673/3673 [==============================] - 0s 51us/step - loss: 0.5067 - acc: 0.7365\nEpoch 133/500\n3673/3673 [==============================] - 0s 53us/step - loss: 0.4967 - acc: 0.7473\nEpoch 134/500\n3673/3673 [==============================] - 0s 59us/step - loss: 0.4983 - acc: 0.7468\nEpoch 135/500\n3673/3673 [==============================] - 0s 52us/step - loss: 0.5103 - acc: 0.7269\nEpoch 136/500\n3673/3673 [==============================] - 0s 49us/step - loss: 0.5042 - acc: 0.7405\nEpoch 137/500\n3673/3673 [==============================] - 0s 53us/step - loss: 0.5039 - acc: 0.7465\nEpoch 138/500\n3673/3673 [==============================] - 0s 49us/step - loss: 0.5068 - acc: 0.7386\nEpoch 139/500\n3673/3673 [==============================] - 0s 50us/step - loss: 0.5025 - acc: 0.7479\nEpoch 140/500\n3673/3673 [==============================] - 0s 49us/step - loss: 0.4989 - acc: 0.7495\nEpoch 141/500\n3673/3673 [==============================] - 0s 56us/step - loss: 0.5008 - acc: 0.7460\nEpoch 142/500\n3673/3673 [==============================] - 0s 47us/step - loss: 0.4944 - acc: 0.7517\nEpoch 143/500\n3673/3673 [==============================] - 0s 52us/step - loss: 0.5053 - acc: 0.7419\nEpoch 144/500\n3673/3673 [==============================] - 0s 54us/step - loss: 0.5103 - acc: 0.7424\nEpoch 145/500\n3673/3673 [==============================] - 0s 63us/step - loss: 0.5058 - acc: 0.7367\nEpoch 146/500\n3673/3673 [==============================] - 0s 60us/step - loss: 0.5099 - acc: 0.7269\nEpoch 147/500\n3673/3673 [==============================] - 0s 59us/step - loss: 0.5036 - acc: 0.7343\nEpoch 148/500\n3673/3673 [==============================] - 0s 55us/step - loss: 0.4965 - acc: 0.7463\nEpoch 149/500\n3673/3673 [==============================] - 0s 51us/step - loss: 0.4981 - acc: 0.7463\nEpoch 150/500\n3673/3673 [==============================] - 0s 51us/step - loss: 0.5017 - acc: 0.7408\nEpoch 151/500\n3673/3673 [==============================] - 0s 54us/step - loss: 0.4962 - acc: 0.7484\nEpoch 152/500\n3673/3673 [==============================] - 0s 53us/step - loss: 0.5043 - acc: 0.7449\nEpoch 153/500\n3673/3673 [==============================] - 0s 47us/step - loss: 0.5018 - acc: 0.7375\nEpoch 154/500\n3673/3673 [==============================] - 0s 50us/step - loss: 0.5021 - acc: 0.7454\nEpoch 155/500\n3673/3673 [==============================] - 0s 49us/step - loss: 0.5035 - acc: 0.7438\nEpoch 156/500\n3673/3673 [==============================] - 0s 61us/step - loss: 0.4953 - acc: 0.7503\nEpoch 157/500\n3673/3673 [==============================] - 0s 93us/step - loss: 0.4995 - acc: 0.7427\nEpoch 158/500\n3673/3673 [==============================] - 0s 57us/step - loss: 0.4981 - acc: 0.7427\nEpoch 159/500\n3673/3673 [==============================] - 0s 52us/step - loss: 0.5013 - acc: 0.7457\nEpoch 160/500\n3673/3673 [==============================] - 0s 55us/step - loss: 0.4946 - acc: 0.7482\nEpoch 161/500\n3673/3673 [==============================] - 0s 72us/step - loss: 0.4985 - acc: 0.7493\nEpoch 162/500\n3673/3673 [==============================] - 0s 71us/step - loss: 0.5035 - acc: 0.7405\nEpoch 163/500\n",
          "name": "stdout"
        },
        {
          "output_type": "stream",
          "text": "3673/3673 [==============================] - 0s 96us/step - loss: 0.5068 - acc: 0.7414\nEpoch 164/500\n3673/3673 [==============================] - 0s 105us/step - loss: 0.5008 - acc: 0.7520\nEpoch 165/500\n3673/3673 [==============================] - 0s 78us/step - loss: 0.5031 - acc: 0.7487\nEpoch 166/500\n3673/3673 [==============================] - 0s 63us/step - loss: 0.5029 - acc: 0.7441\nEpoch 167/500\n3673/3673 [==============================] - 0s 73us/step - loss: 0.4994 - acc: 0.7479\nEpoch 168/500\n3673/3673 [==============================] - 0s 64us/step - loss: 0.5013 - acc: 0.7414\nEpoch 169/500\n3673/3673 [==============================] - 0s 51us/step - loss: 0.5083 - acc: 0.7422\nEpoch 170/500\n3673/3673 [==============================] - 0s 63us/step - loss: 0.5006 - acc: 0.7460\nEpoch 171/500\n3673/3673 [==============================] - 0s 55us/step - loss: 0.4973 - acc: 0.7531\nEpoch 172/500\n3673/3673 [==============================] - 0s 55us/step - loss: 0.5008 - acc: 0.7501\nEpoch 173/500\n3673/3673 [==============================] - 0s 55us/step - loss: 0.4960 - acc: 0.7531\nEpoch 174/500\n3673/3673 [==============================] - 0s 51us/step - loss: 0.4971 - acc: 0.7536\nEpoch 175/500\n3673/3673 [==============================] - 0s 69us/step - loss: 0.4925 - acc: 0.7531\nEpoch 176/500\n3673/3673 [==============================] - 0s 56us/step - loss: 0.5010 - acc: 0.7419\nEpoch 177/500\n3673/3673 [==============================] - 0s 55us/step - loss: 0.4981 - acc: 0.7482\nEpoch 178/500\n3673/3673 [==============================] - 0s 54us/step - loss: 0.4942 - acc: 0.7533\nEpoch 179/500\n3673/3673 [==============================] - 0s 69us/step - loss: 0.4954 - acc: 0.7468\nEpoch 180/500\n3673/3673 [==============================] - 0s 62us/step - loss: 0.4967 - acc: 0.7482\nEpoch 181/500\n3673/3673 [==============================] - 0s 57us/step - loss: 0.4999 - acc: 0.7471\nEpoch 182/500\n3673/3673 [==============================] - 0s 66us/step - loss: 0.4978 - acc: 0.7495\nEpoch 183/500\n3673/3673 [==============================] - 0s 64us/step - loss: 0.5045 - acc: 0.7356\nEpoch 184/500\n3673/3673 [==============================] - 0s 75us/step - loss: 0.4971 - acc: 0.7473\nEpoch 185/500\n3673/3673 [==============================] - 0s 52us/step - loss: 0.4998 - acc: 0.7441\nEpoch 186/500\n3673/3673 [==============================] - 0s 58us/step - loss: 0.4944 - acc: 0.7552\nEpoch 187/500\n3673/3673 [==============================] - 0s 63us/step - loss: 0.4936 - acc: 0.7514\nEpoch 188/500\n3673/3673 [==============================] - 0s 61us/step - loss: 0.4998 - acc: 0.7476\nEpoch 189/500\n3673/3673 [==============================] - 0s 63us/step - loss: 0.4951 - acc: 0.7533\nEpoch 190/500\n3673/3673 [==============================] - 0s 50us/step - loss: 0.4991 - acc: 0.7487\nEpoch 191/500\n3673/3673 [==============================] - 0s 53us/step - loss: 0.4960 - acc: 0.7503\nEpoch 192/500\n3673/3673 [==============================] - 0s 48us/step - loss: 0.5037 - acc: 0.7433\nEpoch 193/500\n3673/3673 [==============================] - 0s 54us/step - loss: 0.5026 - acc: 0.7416\nEpoch 194/500\n3673/3673 [==============================] - 0s 50us/step - loss: 0.4946 - acc: 0.7514\nEpoch 195/500\n3673/3673 [==============================] - 0s 49us/step - loss: 0.5030 - acc: 0.7479\nEpoch 196/500\n3673/3673 [==============================] - 0s 48us/step - loss: 0.5100 - acc: 0.7337\nEpoch 197/500\n3673/3673 [==============================] - 0s 49us/step - loss: 0.5048 - acc: 0.7457\nEpoch 198/500\n3673/3673 [==============================] - 0s 50us/step - loss: 0.4950 - acc: 0.7503\nEpoch 199/500\n3673/3673 [==============================] - 0s 47us/step - loss: 0.4985 - acc: 0.7471\nEpoch 200/500\n3673/3673 [==============================] - 0s 48us/step - loss: 0.4932 - acc: 0.7542\nEpoch 201/500\n3673/3673 [==============================] - 0s 50us/step - loss: 0.4948 - acc: 0.7501\nEpoch 202/500\n3673/3673 [==============================] - 0s 53us/step - loss: 0.4975 - acc: 0.7503\nEpoch 203/500\n3673/3673 [==============================] - 0s 52us/step - loss: 0.5022 - acc: 0.7512\nEpoch 204/500\n3673/3673 [==============================] - 0s 56us/step - loss: 0.4941 - acc: 0.7520\nEpoch 205/500\n3673/3673 [==============================] - 0s 56us/step - loss: 0.4959 - acc: 0.7558\nEpoch 206/500\n3673/3673 [==============================] - 0s 49us/step - loss: 0.4936 - acc: 0.7533\nEpoch 207/500\n3673/3673 [==============================] - 0s 59us/step - loss: 0.4974 - acc: 0.7435\nEpoch 208/500\n3673/3673 [==============================] - 0s 51us/step - loss: 0.5004 - acc: 0.7479\nEpoch 209/500\n3673/3673 [==============================] - 0s 60us/step - loss: 0.4927 - acc: 0.7531\nEpoch 210/500\n3673/3673 [==============================] - 0s 56us/step - loss: 0.5021 - acc: 0.7482\nEpoch 211/500\n3673/3673 [==============================] - 0s 59us/step - loss: 0.4966 - acc: 0.7501\nEpoch 212/500\n3673/3673 [==============================] - 0s 68us/step - loss: 0.4956 - acc: 0.7473\nEpoch 213/500\n3673/3673 [==============================] - 0s 62us/step - loss: 0.4981 - acc: 0.7547\nEpoch 214/500\n3673/3673 [==============================] - 0s 56us/step - loss: 0.5053 - acc: 0.7476\nEpoch 215/500\n3673/3673 [==============================] - 0s 51us/step - loss: 0.5004 - acc: 0.7476\nEpoch 216/500\n3673/3673 [==============================] - 0s 61us/step - loss: 0.4997 - acc: 0.7452\nEpoch 217/500\n3673/3673 [==============================] - 0s 62us/step - loss: 0.4939 - acc: 0.7563\nEpoch 218/500\n3673/3673 [==============================] - 0s 54us/step - loss: 0.4946 - acc: 0.7552\nEpoch 219/500\n3673/3673 [==============================] - 0s 67us/step - loss: 0.4963 - acc: 0.7506\nEpoch 220/500\n3673/3673 [==============================] - 0s 61us/step - loss: 0.4976 - acc: 0.7427\nEpoch 221/500\n3673/3673 [==============================] - 0s 48us/step - loss: 0.4971 - acc: 0.7601\nEpoch 222/500\n3673/3673 [==============================] - 0s 48us/step - loss: 0.4907 - acc: 0.7620\nEpoch 223/500\n3673/3673 [==============================] - 0s 45us/step - loss: 0.4931 - acc: 0.7539\nEpoch 224/500\n3673/3673 [==============================] - 0s 53us/step - loss: 0.4953 - acc: 0.7476\nEpoch 225/500\n3673/3673 [==============================] - 0s 48us/step - loss: 0.4945 - acc: 0.7512\nEpoch 226/500\n3673/3673 [==============================] - 0s 49us/step - loss: 0.4986 - acc: 0.7465\nEpoch 227/500\n3673/3673 [==============================] - 0s 59us/step - loss: 0.4936 - acc: 0.7539\nEpoch 228/500\n3673/3673 [==============================] - 0s 59us/step - loss: 0.4936 - acc: 0.7506\nEpoch 229/500\n3673/3673 [==============================] - 0s 62us/step - loss: 0.5018 - acc: 0.7476\nEpoch 230/500\n3673/3673 [==============================] - 0s 67us/step - loss: 0.4940 - acc: 0.7525\nEpoch 231/500\n3673/3673 [==============================] - 0s 62us/step - loss: 0.4992 - acc: 0.7501\nEpoch 232/500\n3673/3673 [==============================] - 0s 53us/step - loss: 0.4930 - acc: 0.7522\nEpoch 233/500\n3673/3673 [==============================] - 0s 52us/step - loss: 0.4962 - acc: 0.7533\nEpoch 234/500\n3673/3673 [==============================] - 0s 65us/step - loss: 0.4966 - acc: 0.7503\nEpoch 235/500\n3673/3673 [==============================] - 0s 62us/step - loss: 0.4884 - acc: 0.7569\nEpoch 236/500\n3673/3673 [==============================] - 0s 62us/step - loss: 0.4933 - acc: 0.7555\nEpoch 237/500\n3673/3673 [==============================] - 0s 64us/step - loss: 0.4922 - acc: 0.7536\nEpoch 238/500\n3673/3673 [==============================] - 0s 70us/step - loss: 0.4956 - acc: 0.7528\nEpoch 239/500\n3673/3673 [==============================] - 0s 65us/step - loss: 0.4908 - acc: 0.7558\nEpoch 240/500\n3673/3673 [==============================] - 0s 59us/step - loss: 0.4905 - acc: 0.7514\nEpoch 241/500\n3673/3673 [==============================] - 0s 49us/step - loss: 0.4958 - acc: 0.7512\nEpoch 242/500\n3673/3673 [==============================] - 0s 52us/step - loss: 0.4923 - acc: 0.7517\nEpoch 243/500\n3673/3673 [==============================] - 0s 47us/step - loss: 0.5011 - acc: 0.7463\nEpoch 244/500\n",
          "name": "stdout"
        },
        {
          "output_type": "stream",
          "text": "3673/3673 [==============================] - 0s 65us/step - loss: 0.4922 - acc: 0.7569\nEpoch 245/500\n3673/3673 [==============================] - 0s 69us/step - loss: 0.4887 - acc: 0.7591\nEpoch 246/500\n3673/3673 [==============================] - 0s 65us/step - loss: 0.4937 - acc: 0.7430\nEpoch 247/500\n3673/3673 [==============================] - 0s 66us/step - loss: 0.5024 - acc: 0.7495\nEpoch 248/500\n3673/3673 [==============================] - 0s 63us/step - loss: 0.4959 - acc: 0.7512\nEpoch 249/500\n3673/3673 [==============================] - 0s 66us/step - loss: 0.4926 - acc: 0.7558\nEpoch 250/500\n3673/3673 [==============================] - 0s 60us/step - loss: 0.5059 - acc: 0.7408\nEpoch 251/500\n3673/3673 [==============================] - 0s 79us/step - loss: 0.4941 - acc: 0.7528\nEpoch 252/500\n3673/3673 [==============================] - 0s 62us/step - loss: 0.4945 - acc: 0.7498\nEpoch 253/500\n3673/3673 [==============================] - 0s 59us/step - loss: 0.4955 - acc: 0.7555\nEpoch 254/500\n3673/3673 [==============================] - 0s 64us/step - loss: 0.4940 - acc: 0.7517\nEpoch 255/500\n3673/3673 [==============================] - 0s 56us/step - loss: 0.4945 - acc: 0.7514\nEpoch 256/500\n3673/3673 [==============================] - 0s 61us/step - loss: 0.4976 - acc: 0.7528\nEpoch 257/500\n3673/3673 [==============================] - 0s 60us/step - loss: 0.4949 - acc: 0.7528\nEpoch 258/500\n3673/3673 [==============================] - 0s 65us/step - loss: 0.4954 - acc: 0.7506\nEpoch 259/500\n3673/3673 [==============================] - 0s 63us/step - loss: 0.5016 - acc: 0.7444\nEpoch 260/500\n3673/3673 [==============================] - 0s 60us/step - loss: 0.4970 - acc: 0.7533\nEpoch 261/500\n3673/3673 [==============================] - 0s 53us/step - loss: 0.4925 - acc: 0.7599\nEpoch 262/500\n3673/3673 [==============================] - 0s 61us/step - loss: 0.4948 - acc: 0.7552\nEpoch 263/500\n3673/3673 [==============================] - 0s 57us/step - loss: 0.5010 - acc: 0.7446\nEpoch 264/500\n3673/3673 [==============================] - 0s 50us/step - loss: 0.4999 - acc: 0.7457\nEpoch 265/500\n3673/3673 [==============================] - 0s 54us/step - loss: 0.4914 - acc: 0.7566\nEpoch 266/500\n3673/3673 [==============================] - 0s 50us/step - loss: 0.4956 - acc: 0.7596\nEpoch 267/500\n3673/3673 [==============================] - 0s 63us/step - loss: 0.4906 - acc: 0.7558\nEpoch 268/500\n3673/3673 [==============================] - 0s 64us/step - loss: 0.4956 - acc: 0.7476\nEpoch 269/500\n3673/3673 [==============================] - 0s 57us/step - loss: 0.4910 - acc: 0.7531\nEpoch 270/500\n3673/3673 [==============================] - 0s 53us/step - loss: 0.4966 - acc: 0.7539\nEpoch 271/500\n3673/3673 [==============================] - 0s 78us/step - loss: 0.4928 - acc: 0.7547\nEpoch 272/500\n3673/3673 [==============================] - 0s 73us/step - loss: 0.4912 - acc: 0.7607\nEpoch 273/500\n3673/3673 [==============================] - 0s 73us/step - loss: 0.4953 - acc: 0.7588\nEpoch 274/500\n3673/3673 [==============================] - 0s 67us/step - loss: 0.5015 - acc: 0.7452\nEpoch 275/500\n3673/3673 [==============================] - 0s 51us/step - loss: 0.4908 - acc: 0.7550\nEpoch 276/500\n3673/3673 [==============================] - 0s 50us/step - loss: 0.4941 - acc: 0.7517\nEpoch 277/500\n3673/3673 [==============================] - 0s 48us/step - loss: 0.4949 - acc: 0.7539\nEpoch 278/500\n3673/3673 [==============================] - 0s 46us/step - loss: 0.4922 - acc: 0.7577\nEpoch 279/500\n3673/3673 [==============================] - 0s 50us/step - loss: 0.4880 - acc: 0.7552\nEpoch 280/500\n3673/3673 [==============================] - 0s 50us/step - loss: 0.4939 - acc: 0.7555\nEpoch 281/500\n3673/3673 [==============================] - 0s 51us/step - loss: 0.4947 - acc: 0.7552\nEpoch 282/500\n3673/3673 [==============================] - 0s 48us/step - loss: 0.4901 - acc: 0.7544\nEpoch 283/500\n3673/3673 [==============================] - 0s 48us/step - loss: 0.4925 - acc: 0.7574\nEpoch 284/500\n3673/3673 [==============================] - 0s 52us/step - loss: 0.5008 - acc: 0.7533\nEpoch 285/500\n3673/3673 [==============================] - 0s 49us/step - loss: 0.4971 - acc: 0.7476\nEpoch 286/500\n3673/3673 [==============================] - 0s 48us/step - loss: 0.4949 - acc: 0.7506\nEpoch 287/500\n3673/3673 [==============================] - 0s 48us/step - loss: 0.5064 - acc: 0.7484\nEpoch 288/500\n3673/3673 [==============================] - 0s 49us/step - loss: 0.4952 - acc: 0.7503\nEpoch 289/500\n3673/3673 [==============================] - 0s 49us/step - loss: 0.4900 - acc: 0.7542\nEpoch 290/500\n3673/3673 [==============================] - 0s 48us/step - loss: 0.4904 - acc: 0.7588\nEpoch 291/500\n3673/3673 [==============================] - 0s 63us/step - loss: 0.4902 - acc: 0.7585\nEpoch 292/500\n3673/3673 [==============================] - 0s 53us/step - loss: 0.4945 - acc: 0.7533\nEpoch 293/500\n3673/3673 [==============================] - 0s 51us/step - loss: 0.4923 - acc: 0.7544\nEpoch 294/500\n3673/3673 [==============================] - 0s 70us/step - loss: 0.5017 - acc: 0.7433\nEpoch 295/500\n3673/3673 [==============================] - 0s 51us/step - loss: 0.4927 - acc: 0.7517\nEpoch 296/500\n3673/3673 [==============================] - 0s 60us/step - loss: 0.4906 - acc: 0.7601\nEpoch 297/500\n3673/3673 [==============================] - 0s 51us/step - loss: 0.4940 - acc: 0.7582\nEpoch 298/500\n3673/3673 [==============================] - 0s 59us/step - loss: 0.4921 - acc: 0.7558\nEpoch 299/500\n3673/3673 [==============================] - 0s 51us/step - loss: 0.4928 - acc: 0.7604\nEpoch 300/500\n3673/3673 [==============================] - 0s 49us/step - loss: 0.4949 - acc: 0.7520\nEpoch 301/500\n3673/3673 [==============================] - 0s 59us/step - loss: 0.5000 - acc: 0.7558\nEpoch 302/500\n3673/3673 [==============================] - 0s 81us/step - loss: 0.4929 - acc: 0.7542\nEpoch 303/500\n3673/3673 [==============================] - 0s 80us/step - loss: 0.5045 - acc: 0.7498\nEpoch 304/500\n3673/3673 [==============================] - 0s 81us/step - loss: 0.4989 - acc: 0.7495\nEpoch 305/500\n3673/3673 [==============================] - 0s 71us/step - loss: 0.4940 - acc: 0.7566\nEpoch 306/500\n3673/3673 [==============================] - 0s 100us/step - loss: 0.4919 - acc: 0.7528\nEpoch 307/500\n3673/3673 [==============================] - 0s 103us/step - loss: 0.4939 - acc: 0.7503\nEpoch 308/500\n3673/3673 [==============================] - 0s 113us/step - loss: 0.4866 - acc: 0.7620\nEpoch 309/500\n3673/3673 [==============================] - 0s 65us/step - loss: 0.4905 - acc: 0.7574\nEpoch 310/500\n3673/3673 [==============================] - 0s 77us/step - loss: 0.4951 - acc: 0.7558\nEpoch 311/500\n3673/3673 [==============================] - 0s 61us/step - loss: 0.4926 - acc: 0.7482\nEpoch 312/500\n3673/3673 [==============================] - 0s 65us/step - loss: 0.4878 - acc: 0.7637\nEpoch 313/500\n3673/3673 [==============================] - 0s 60us/step - loss: 0.4952 - acc: 0.7577\nEpoch 314/500\n3673/3673 [==============================] - 0s 51us/step - loss: 0.4947 - acc: 0.7533\nEpoch 315/500\n3673/3673 [==============================] - 0s 53us/step - loss: 0.4873 - acc: 0.7610\nEpoch 316/500\n3673/3673 [==============================] - 0s 55us/step - loss: 0.4904 - acc: 0.7539\nEpoch 317/500\n3673/3673 [==============================] - 0s 57us/step - loss: 0.4913 - acc: 0.7577\nEpoch 318/500\n3673/3673 [==============================] - 0s 55us/step - loss: 0.4949 - acc: 0.7503\nEpoch 319/500\n3673/3673 [==============================] - 0s 62us/step - loss: 0.4906 - acc: 0.7599\nEpoch 320/500\n3673/3673 [==============================] - 0s 62us/step - loss: 0.4906 - acc: 0.7566\nEpoch 321/500\n3673/3673 [==============================] - 0s 71us/step - loss: 0.4890 - acc: 0.7623\nEpoch 322/500\n3673/3673 [==============================] - 0s 66us/step - loss: 0.4932 - acc: 0.7580\nEpoch 323/500\n3673/3673 [==============================] - 0s 59us/step - loss: 0.4931 - acc: 0.7550\nEpoch 324/500\n3673/3673 [==============================] - 0s 52us/step - loss: 0.4919 - acc: 0.7558\nEpoch 325/500\n",
          "name": "stdout"
        },
        {
          "output_type": "stream",
          "text": "3673/3673 [==============================] - 0s 74us/step - loss: 0.4885 - acc: 0.7601\nEpoch 326/500\n3673/3673 [==============================] - 0s 77us/step - loss: 0.4915 - acc: 0.7571\nEpoch 327/500\n3673/3673 [==============================] - 0s 61us/step - loss: 0.4986 - acc: 0.7503\nEpoch 328/500\n3673/3673 [==============================] - 0s 76us/step - loss: 0.4892 - acc: 0.7626\nEpoch 329/500\n3673/3673 [==============================] - 0s 64us/step - loss: 0.4865 - acc: 0.7588\nEpoch 330/500\n3673/3673 [==============================] - 0s 51us/step - loss: 0.4918 - acc: 0.7580\nEpoch 331/500\n3673/3673 [==============================] - 0s 56us/step - loss: 0.4952 - acc: 0.7550\nEpoch 332/500\n3673/3673 [==============================] - 0s 51us/step - loss: 0.4953 - acc: 0.7520\nEpoch 333/500\n3673/3673 [==============================] - 0s 56us/step - loss: 0.4923 - acc: 0.7514\nEpoch 334/500\n3673/3673 [==============================] - 0s 47us/step - loss: 0.4952 - acc: 0.7536\nEpoch 335/500\n3673/3673 [==============================] - 0s 50us/step - loss: 0.4907 - acc: 0.7577\nEpoch 336/500\n3673/3673 [==============================] - 0s 49us/step - loss: 0.4885 - acc: 0.7561\nEpoch 337/500\n3673/3673 [==============================] - 0s 46us/step - loss: 0.4978 - acc: 0.7520\nEpoch 338/500\n3673/3673 [==============================] - 0s 51us/step - loss: 0.4914 - acc: 0.7580\nEpoch 339/500\n3673/3673 [==============================] - 0s 50us/step - loss: 0.4884 - acc: 0.7547\nEpoch 340/500\n3673/3673 [==============================] - 0s 48us/step - loss: 0.4994 - acc: 0.7495\nEpoch 341/500\n3673/3673 [==============================] - 0s 54us/step - loss: 0.4871 - acc: 0.7626\nEpoch 342/500\n3673/3673 [==============================] - 0s 60us/step - loss: 0.4903 - acc: 0.7569\nEpoch 343/500\n3673/3673 [==============================] - 0s 58us/step - loss: 0.4905 - acc: 0.7615\nEpoch 344/500\n3673/3673 [==============================] - 1s 226us/step - loss: 0.4903 - acc: 0.7563\nEpoch 345/500\n3673/3673 [==============================] - 0s 133us/step - loss: 0.4930 - acc: 0.7607\nEpoch 346/500\n3673/3673 [==============================] - 0s 114us/step - loss: 0.4902 - acc: 0.7574\nEpoch 347/500\n3673/3673 [==============================] - 1s 143us/step - loss: 0.4916 - acc: 0.7569\nEpoch 348/500\n3673/3673 [==============================] - 0s 128us/step - loss: 0.4910 - acc: 0.7585\nEpoch 349/500\n3673/3673 [==============================] - 1s 190us/step - loss: 0.4873 - acc: 0.7629\nEpoch 350/500\n3673/3673 [==============================] - 1s 165us/step - loss: 0.4907 - acc: 0.7558\nEpoch 351/500\n3673/3673 [==============================] - 1s 145us/step - loss: 0.4883 - acc: 0.7563\nEpoch 352/500\n3673/3673 [==============================] - 1s 154us/step - loss: 0.4908 - acc: 0.7574\nEpoch 353/500\n3673/3673 [==============================] - 1s 136us/step - loss: 0.5095 - acc: 0.7392\nEpoch 354/500\n3673/3673 [==============================] - 0s 120us/step - loss: 0.4933 - acc: 0.7536\nEpoch 355/500\n3673/3673 [==============================] - 0s 132us/step - loss: 0.4875 - acc: 0.7550\nEpoch 356/500\n3673/3673 [==============================] - 0s 127us/step - loss: 0.4905 - acc: 0.7580\nEpoch 357/500\n3673/3673 [==============================] - 0s 94us/step - loss: 0.4890 - acc: 0.7563\nEpoch 358/500\n3673/3673 [==============================] - 0s 97us/step - loss: 0.4936 - acc: 0.7520\nEpoch 359/500\n3673/3673 [==============================] - 0s 62us/step - loss: 0.4924 - acc: 0.7539\nEpoch 360/500\n3673/3673 [==============================] - 0s 85us/step - loss: 0.4957 - acc: 0.7580\nEpoch 361/500\n3673/3673 [==============================] - 0s 104us/step - loss: 0.4977 - acc: 0.7449\nEpoch 362/500\n3673/3673 [==============================] - 0s 92us/step - loss: 0.4954 - acc: 0.7555\nEpoch 363/500\n3673/3673 [==============================] - 0s 89us/step - loss: 0.4885 - acc: 0.7607\nEpoch 364/500\n3673/3673 [==============================] - 0s 105us/step - loss: 0.4891 - acc: 0.7615\nEpoch 365/500\n3673/3673 [==============================] - 0s 94us/step - loss: 0.4883 - acc: 0.7558\nEpoch 366/500\n3673/3673 [==============================] - 0s 92us/step - loss: 0.4955 - acc: 0.7569\nEpoch 367/500\n3673/3673 [==============================] - 0s 67us/step - loss: 0.4881 - acc: 0.7612\nEpoch 368/500\n3673/3673 [==============================] - 0s 67us/step - loss: 0.4884 - acc: 0.7566\nEpoch 369/500\n3673/3673 [==============================] - 0s 82us/step - loss: 0.4933 - acc: 0.7544\nEpoch 370/500\n3673/3673 [==============================] - 0s 90us/step - loss: 0.4948 - acc: 0.7536\nEpoch 371/500\n3673/3673 [==============================] - 0s 76us/step - loss: 0.4909 - acc: 0.7566\nEpoch 372/500\n3673/3673 [==============================] - 0s 75us/step - loss: 0.4928 - acc: 0.7596\nEpoch 373/500\n3673/3673 [==============================] - 0s 77us/step - loss: 0.4882 - acc: 0.7574\nEpoch 374/500\n3673/3673 [==============================] - 0s 77us/step - loss: 0.4907 - acc: 0.7542\nEpoch 375/500\n3673/3673 [==============================] - 0s 74us/step - loss: 0.4888 - acc: 0.7601\nEpoch 376/500\n3673/3673 [==============================] - 0s 68us/step - loss: 0.4871 - acc: 0.7645\nEpoch 377/500\n3673/3673 [==============================] - 0s 77us/step - loss: 0.4885 - acc: 0.7571\nEpoch 378/500\n3673/3673 [==============================] - 0s 76us/step - loss: 0.4956 - acc: 0.7482\nEpoch 379/500\n3673/3673 [==============================] - 0s 97us/step - loss: 0.4911 - acc: 0.7522\nEpoch 380/500\n3673/3673 [==============================] - 0s 81us/step - loss: 0.4930 - acc: 0.7514\nEpoch 381/500\n3673/3673 [==============================] - 0s 83us/step - loss: 0.4913 - acc: 0.7539\nEpoch 382/500\n3673/3673 [==============================] - 0s 82us/step - loss: 0.4972 - acc: 0.7514\nEpoch 383/500\n3673/3673 [==============================] - 0s 68us/step - loss: 0.4952 - acc: 0.7438\nEpoch 384/500\n3673/3673 [==============================] - 0s 85us/step - loss: 0.4880 - acc: 0.7604\nEpoch 385/500\n3673/3673 [==============================] - 0s 106us/step - loss: 0.4871 - acc: 0.7593\nEpoch 386/500\n3673/3673 [==============================] - 0s 92us/step - loss: 0.4926 - acc: 0.7517\nEpoch 387/500\n3673/3673 [==============================] - 0s 81us/step - loss: 0.4864 - acc: 0.7591\nEpoch 388/500\n3673/3673 [==============================] - 0s 91us/step - loss: 0.4854 - acc: 0.7648\nEpoch 389/500\n3673/3673 [==============================] - 0s 79us/step - loss: 0.4943 - acc: 0.7531\nEpoch 390/500\n3673/3673 [==============================] - 0s 75us/step - loss: 0.4921 - acc: 0.7601\nEpoch 391/500\n3673/3673 [==============================] - 0s 51us/step - loss: 0.4952 - acc: 0.7582\nEpoch 392/500\n3673/3673 [==============================] - 0s 56us/step - loss: 0.4901 - acc: 0.7596\nEpoch 393/500\n3673/3673 [==============================] - 0s 51us/step - loss: 0.4887 - acc: 0.7596\nEpoch 394/500\n3673/3673 [==============================] - 0s 76us/step - loss: 0.4923 - acc: 0.7536\nEpoch 395/500\n3673/3673 [==============================] - 0s 130us/step - loss: 0.4931 - acc: 0.7569\nEpoch 396/500\n3673/3673 [==============================] - 1s 141us/step - loss: 0.4870 - acc: 0.7631\nEpoch 397/500\n3673/3673 [==============================] - 0s 105us/step - loss: 0.4862 - acc: 0.7615\nEpoch 398/500\n3673/3673 [==============================] - 0s 109us/step - loss: 0.4892 - acc: 0.7571\nEpoch 399/500\n3673/3673 [==============================] - 0s 82us/step - loss: 0.4900 - acc: 0.7547\nEpoch 400/500\n3673/3673 [==============================] - 0s 83us/step - loss: 0.4866 - acc: 0.7585\nEpoch 401/500\n3673/3673 [==============================] - 0s 86us/step - loss: 0.4912 - acc: 0.7574\nEpoch 402/500\n3673/3673 [==============================] - 0s 74us/step - loss: 0.4872 - acc: 0.7591\nEpoch 403/500\n3673/3673 [==============================] - 0s 87us/step - loss: 0.4905 - acc: 0.7672\nEpoch 404/500\n3673/3673 [==============================] - 0s 81us/step - loss: 0.4903 - acc: 0.7574\nEpoch 405/500\n3673/3673 [==============================] - 0s 54us/step - loss: 0.4896 - acc: 0.7637\nEpoch 406/500\n",
          "name": "stdout"
        },
        {
          "output_type": "stream",
          "text": "3673/3673 [==============================] - 0s 48us/step - loss: 0.4891 - acc: 0.7563\nEpoch 407/500\n3673/3673 [==============================] - 0s 58us/step - loss: 0.4936 - acc: 0.7558\nEpoch 408/500\n3673/3673 [==============================] - 0s 47us/step - loss: 0.4856 - acc: 0.7607\nEpoch 409/500\n3673/3673 [==============================] - 0s 48us/step - loss: 0.4859 - acc: 0.7596\nEpoch 410/500\n3673/3673 [==============================] - 0s 50us/step - loss: 0.4912 - acc: 0.7544\nEpoch 411/500\n3673/3673 [==============================] - 0s 57us/step - loss: 0.4902 - acc: 0.7555\nEpoch 412/500\n3673/3673 [==============================] - 0s 49us/step - loss: 0.4925 - acc: 0.7522\nEpoch 413/500\n3673/3673 [==============================] - 0s 51us/step - loss: 0.4878 - acc: 0.7610\nEpoch 414/500\n3673/3673 [==============================] - 0s 50us/step - loss: 0.4915 - acc: 0.7550\nEpoch 415/500\n3673/3673 [==============================] - 0s 49us/step - loss: 0.4857 - acc: 0.7596\nEpoch 416/500\n3673/3673 [==============================] - 0s 50us/step - loss: 0.4858 - acc: 0.7623\nEpoch 417/500\n3673/3673 [==============================] - 0s 50us/step - loss: 0.4912 - acc: 0.7544\nEpoch 418/500\n3673/3673 [==============================] - 0s 52us/step - loss: 0.4943 - acc: 0.7563\nEpoch 419/500\n3673/3673 [==============================] - 0s 62us/step - loss: 0.4871 - acc: 0.7599\nEpoch 420/500\n3673/3673 [==============================] - 0s 53us/step - loss: 0.4919 - acc: 0.7503\nEpoch 421/500\n3673/3673 [==============================] - 0s 52us/step - loss: 0.4907 - acc: 0.7604\nEpoch 422/500\n3673/3673 [==============================] - 0s 52us/step - loss: 0.4909 - acc: 0.7574\nEpoch 423/500\n3673/3673 [==============================] - 0s 50us/step - loss: 0.4899 - acc: 0.7531\nEpoch 424/500\n3673/3673 [==============================] - 0s 49us/step - loss: 0.4970 - acc: 0.7438\nEpoch 425/500\n3673/3673 [==============================] - 0s 56us/step - loss: 0.4884 - acc: 0.7629\nEpoch 426/500\n3673/3673 [==============================] - 0s 61us/step - loss: 0.4895 - acc: 0.7615\nEpoch 427/500\n3673/3673 [==============================] - 0s 50us/step - loss: 0.4867 - acc: 0.7610\nEpoch 428/500\n3673/3673 [==============================] - 0s 51us/step - loss: 0.4916 - acc: 0.7539\nEpoch 429/500\n3673/3673 [==============================] - 0s 63us/step - loss: 0.4902 - acc: 0.7550\nEpoch 430/500\n3673/3673 [==============================] - 1s 159us/step - loss: 0.4926 - acc: 0.7561\nEpoch 431/500\n3673/3673 [==============================] - 1s 153us/step - loss: 0.4871 - acc: 0.7577\nEpoch 432/500\n3673/3673 [==============================] - 0s 130us/step - loss: 0.4891 - acc: 0.7550\nEpoch 433/500\n3673/3673 [==============================] - 0s 83us/step - loss: 0.4936 - acc: 0.7558\nEpoch 434/500\n3673/3673 [==============================] - 0s 98us/step - loss: 0.4848 - acc: 0.7653\nEpoch 435/500\n3673/3673 [==============================] - 0s 94us/step - loss: 0.4881 - acc: 0.7577\nEpoch 436/500\n3673/3673 [==============================] - 0s 98us/step - loss: 0.4911 - acc: 0.7547\nEpoch 437/500\n3673/3673 [==============================] - 0s 112us/step - loss: 0.4887 - acc: 0.7585\nEpoch 438/500\n3673/3673 [==============================] - 0s 56us/step - loss: 0.4891 - acc: 0.7582\nEpoch 439/500\n3673/3673 [==============================] - 0s 57us/step - loss: 0.4896 - acc: 0.7547\nEpoch 440/500\n3673/3673 [==============================] - 0s 62us/step - loss: 0.4929 - acc: 0.7566\nEpoch 441/500\n3673/3673 [==============================] - 0s 66us/step - loss: 0.4898 - acc: 0.7588\nEpoch 442/500\n3673/3673 [==============================] - 0s 60us/step - loss: 0.4856 - acc: 0.7607\nEpoch 443/500\n3673/3673 [==============================] - 0s 77us/step - loss: 0.4908 - acc: 0.7482\nEpoch 444/500\n3673/3673 [==============================] - 0s 64us/step - loss: 0.4858 - acc: 0.7634\nEpoch 445/500\n3673/3673 [==============================] - 0s 49us/step - loss: 0.4852 - acc: 0.7558\nEpoch 446/500\n3673/3673 [==============================] - 0s 52us/step - loss: 0.4882 - acc: 0.7615\nEpoch 447/500\n3673/3673 [==============================] - 0s 54us/step - loss: 0.4930 - acc: 0.7577\nEpoch 448/500\n3673/3673 [==============================] - 0s 55us/step - loss: 0.4892 - acc: 0.7585\nEpoch 449/500\n3673/3673 [==============================] - 0s 55us/step - loss: 0.4862 - acc: 0.7631\nEpoch 450/500\n3673/3673 [==============================] - 0s 54us/step - loss: 0.4909 - acc: 0.7599\nEpoch 451/500\n3673/3673 [==============================] - 0s 51us/step - loss: 0.4876 - acc: 0.7588\nEpoch 452/500\n3673/3673 [==============================] - 0s 51us/step - loss: 0.4915 - acc: 0.7558\nEpoch 453/500\n3673/3673 [==============================] - 0s 52us/step - loss: 0.4885 - acc: 0.7574\nEpoch 454/500\n3673/3673 [==============================] - 0s 62us/step - loss: 0.4917 - acc: 0.7558\nEpoch 455/500\n3673/3673 [==============================] - 0s 65us/step - loss: 0.4871 - acc: 0.7582\nEpoch 456/500\n3673/3673 [==============================] - 0s 57us/step - loss: 0.4921 - acc: 0.7571\nEpoch 457/500\n3673/3673 [==============================] - 0s 54us/step - loss: 0.4885 - acc: 0.7563\nEpoch 458/500\n3673/3673 [==============================] - 0s 53us/step - loss: 0.4888 - acc: 0.7607\nEpoch 459/500\n3673/3673 [==============================] - 0s 54us/step - loss: 0.4876 - acc: 0.7536\nEpoch 460/500\n3673/3673 [==============================] - 0s 52us/step - loss: 0.4884 - acc: 0.7615\nEpoch 461/500\n3673/3673 [==============================] - 0s 50us/step - loss: 0.4904 - acc: 0.7596\nEpoch 462/500\n3673/3673 [==============================] - 0s 55us/step - loss: 0.4898 - acc: 0.7536\nEpoch 463/500\n3673/3673 [==============================] - 0s 52us/step - loss: 0.4857 - acc: 0.7585\nEpoch 464/500\n3673/3673 [==============================] - 0s 64us/step - loss: 0.4862 - acc: 0.7599\nEpoch 465/500\n3673/3673 [==============================] - 0s 50us/step - loss: 0.4963 - acc: 0.7487\nEpoch 466/500\n3673/3673 [==============================] - 0s 62us/step - loss: 0.4979 - acc: 0.7547\nEpoch 467/500\n3673/3673 [==============================] - 0s 61us/step - loss: 0.4904 - acc: 0.7604\nEpoch 468/500\n3673/3673 [==============================] - 0s 52us/step - loss: 0.4883 - acc: 0.7552\nEpoch 469/500\n3673/3673 [==============================] - 0s 55us/step - loss: 0.4927 - acc: 0.7544\nEpoch 470/500\n3673/3673 [==============================] - 0s 55us/step - loss: 0.4974 - acc: 0.7547\nEpoch 471/500\n3673/3673 [==============================] - 0s 81us/step - loss: 0.4890 - acc: 0.7610\nEpoch 472/500\n3673/3673 [==============================] - 1s 139us/step - loss: 0.4852 - acc: 0.7612\nEpoch 473/500\n3673/3673 [==============================] - 0s 68us/step - loss: 0.4866 - acc: 0.7640\nEpoch 474/500\n3673/3673 [==============================] - 0s 69us/step - loss: 0.4865 - acc: 0.7547\nEpoch 475/500\n3673/3673 [==============================] - 0s 81us/step - loss: 0.4858 - acc: 0.7612\nEpoch 476/500\n3673/3673 [==============================] - 0s 77us/step - loss: 0.4886 - acc: 0.7582\nEpoch 477/500\n3673/3673 [==============================] - 0s 74us/step - loss: 0.4863 - acc: 0.7610\nEpoch 478/500\n3673/3673 [==============================] - 0s 90us/step - loss: 0.4932 - acc: 0.7520\nEpoch 479/500\n3673/3673 [==============================] - 0s 91us/step - loss: 0.4860 - acc: 0.7588\nEpoch 480/500\n3673/3673 [==============================] - 0s 94us/step - loss: 0.4858 - acc: 0.7582\nEpoch 481/500\n3673/3673 [==============================] - 0s 91us/step - loss: 0.4904 - acc: 0.7566\nEpoch 482/500\n3673/3673 [==============================] - 0s 96us/step - loss: 0.4868 - acc: 0.7607\nEpoch 483/500\n3673/3673 [==============================] - 0s 88us/step - loss: 0.4892 - acc: 0.7607\nEpoch 484/500\n3673/3673 [==============================] - 0s 76us/step - loss: 0.4890 - acc: 0.7569\nEpoch 485/500\n3673/3673 [==============================] - 0s 89us/step - loss: 0.4857 - acc: 0.7610\nEpoch 486/500\n3673/3673 [==============================] - 0s 87us/step - loss: 0.4948 - acc: 0.7501\nEpoch 487/500\n",
          "name": "stdout"
        },
        {
          "output_type": "stream",
          "text": "3673/3673 [==============================] - 0s 65us/step - loss: 0.4827 - acc: 0.7601\nEpoch 488/500\n3673/3673 [==============================] - 0s 85us/step - loss: 0.4889 - acc: 0.7623\nEpoch 489/500\n3673/3673 [==============================] - 0s 70us/step - loss: 0.4900 - acc: 0.7599\nEpoch 490/500\n3673/3673 [==============================] - 0s 51us/step - loss: 0.4877 - acc: 0.7585\nEpoch 491/500\n3673/3673 [==============================] - 0s 52us/step - loss: 0.4867 - acc: 0.7604\nEpoch 492/500\n3673/3673 [==============================] - 0s 53us/step - loss: 0.4882 - acc: 0.7550\nEpoch 493/500\n3673/3673 [==============================] - 0s 54us/step - loss: 0.4908 - acc: 0.7547\nEpoch 494/500\n3673/3673 [==============================] - 0s 61us/step - loss: 0.4873 - acc: 0.7599\nEpoch 495/500\n3673/3673 [==============================] - 0s 53us/step - loss: 0.4842 - acc: 0.7563\nEpoch 496/500\n3673/3673 [==============================] - 0s 54us/step - loss: 0.4854 - acc: 0.7656\nEpoch 497/500\n3673/3673 [==============================] - 0s 54us/step - loss: 0.4857 - acc: 0.7626\nEpoch 498/500\n3673/3673 [==============================] - 0s 60us/step - loss: 0.4945 - acc: 0.7493\nEpoch 499/500\n3673/3673 [==============================] - 0s 51us/step - loss: 0.4897 - acc: 0.7601\nEpoch 500/500\n3673/3673 [==============================] - 0s 55us/step - loss: 0.4861 - acc: 0.7571\n",
          "name": "stdout"
        },
        {
          "output_type": "execute_result",
          "execution_count": 132,
          "data": {
            "text/plain": "<keras.callbacks.History at 0x7f00e0b33198>"
          },
          "metadata": {}
        }
      ]
    },
    {
      "metadata": {
        "trusted": true
      },
      "cell_type": "code",
      "source": "y_pred = classifier.predict(X_test)",
      "execution_count": 133,
      "outputs": []
    },
    {
      "metadata": {
        "trusted": true
      },
      "cell_type": "code",
      "source": "y_pred[1]",
      "execution_count": 134,
      "outputs": [
        {
          "output_type": "execute_result",
          "execution_count": 134,
          "data": {
            "text/plain": "array([0.6295891], dtype=float32)"
          },
          "metadata": {}
        }
      ]
    },
    {
      "metadata": {
        "trusted": true
      },
      "cell_type": "code",
      "source": "\nscore = classifier.evaluate(X_test, Y_test)\n",
      "execution_count": 135,
      "outputs": [
        {
          "output_type": "stream",
          "text": "1225/1225 [==============================] - 0s 125us/step\n",
          "name": "stdout"
        }
      ]
    },
    {
      "metadata": {},
      "cell_type": "markdown",
      "source": ""
    },
    {
      "metadata": {
        "trusted": true
      },
      "cell_type": "code",
      "source": "score",
      "execution_count": 136,
      "outputs": [
        {
          "output_type": "execute_result",
          "execution_count": 136,
          "data": {
            "text/plain": "[0.5200869647094182, 0.7281632653547793]"
          },
          "metadata": {}
        }
      ]
    },
    {
      "metadata": {
        "trusted": true
      },
      "cell_type": "code",
      "source": "Y_test",
      "execution_count": 137,
      "outputs": [
        {
          "output_type": "execute_result",
          "execution_count": 137,
          "data": {
            "text/plain": "[0.0,\n 1.0,\n 1.0,\n 1.0,\n 0.0,\n 0.0,\n 1.0,\n 0.0,\n 1.0,\n 0.0,\n 1.0,\n 1.0,\n 0.0,\n 0.0,\n 1.0,\n 0.0,\n 1.0,\n 0.0,\n 1.0,\n 1.0,\n 1.0,\n 1.0,\n 1.0,\n 0.0,\n 1.0,\n 1.0,\n 0.0,\n 0.0,\n 1.0,\n 0.0,\n 0.0,\n 0.0,\n 1.0,\n 1.0,\n 0.0,\n 1.0,\n 1.0,\n 1.0,\n 1.0,\n 1.0,\n 0.0,\n 0.0,\n 0.0,\n 1.0,\n 1.0,\n 1.0,\n 0.0,\n 1.0,\n 1.0,\n 1.0,\n 1.0,\n 1.0,\n 0.0,\n 1.0,\n 0.0,\n 1.0,\n 0.0,\n 1.0,\n 0.0,\n 1.0,\n 1.0,\n 1.0,\n 1.0,\n 1.0,\n 1.0,\n 1.0,\n 0.0,\n 0.0,\n 1.0,\n 0.0,\n 1.0,\n 0.0,\n 0.0,\n 1.0,\n 1.0,\n 1.0,\n 1.0,\n 0.0,\n 0.0,\n 1.0,\n 0.0,\n 0.0,\n 1.0,\n 0.0,\n 1.0,\n 0.0,\n 1.0,\n 1.0,\n 0.0,\n 1.0,\n 1.0,\n 1.0,\n 1.0,\n 1.0,\n 0.0,\n 0.0,\n 1.0,\n 1.0,\n 1.0,\n 1.0,\n 1.0,\n 0.0,\n 0.0,\n 1.0,\n 0.0,\n 1.0,\n 1.0,\n 1.0,\n 1.0,\n 0.0,\n 0.0,\n 1.0,\n 1.0,\n 0.0,\n 1.0,\n 1.0,\n 0.0,\n 0.0,\n 1.0,\n 0.0,\n 0.0,\n 0.0,\n 1.0,\n 0.0,\n 0.0,\n 1.0,\n 0.0,\n 1.0,\n 0.0,\n 1.0,\n 1.0,\n 1.0,\n 1.0,\n 1.0,\n 1.0,\n 0.0,\n 1.0,\n 1.0,\n 1.0,\n 1.0,\n 1.0,\n 1.0,\n 0.0,\n 1.0,\n 1.0,\n 1.0,\n 1.0,\n 1.0,\n 1.0,\n 1.0,\n 1.0,\n 1.0,\n 1.0,\n 1.0,\n 0.0,\n 0.0,\n 0.0,\n 1.0,\n 1.0,\n 1.0,\n 0.0,\n 1.0,\n 1.0,\n 1.0,\n 0.0,\n 1.0,\n 0.0,\n 1.0,\n 0.0,\n 1.0,\n 1.0,\n 1.0,\n 1.0,\n 1.0,\n 1.0,\n 1.0,\n 0.0,\n 0.0,\n 1.0,\n 0.0,\n 1.0,\n 1.0,\n 1.0,\n 1.0,\n 1.0,\n 0.0,\n 0.0,\n 1.0,\n 1.0,\n 1.0,\n 1.0,\n 1.0,\n 1.0,\n 1.0,\n 1.0,\n 1.0,\n 1.0,\n 1.0,\n 1.0,\n 1.0,\n 0.0,\n 1.0,\n 1.0,\n 1.0,\n 1.0,\n 0.0,\n 1.0,\n 0.0,\n 1.0,\n 1.0,\n 0.0,\n 1.0,\n 1.0,\n 1.0,\n 1.0,\n 1.0,\n 1.0,\n 1.0,\n 1.0,\n 1.0,\n 1.0,\n 1.0,\n 1.0,\n 1.0,\n 1.0,\n 0.0,\n 0.0,\n 0.0,\n 1.0,\n 1.0,\n 0.0,\n 1.0,\n 1.0,\n 0.0,\n 0.0,\n 1.0,\n 1.0,\n 1.0,\n 1.0,\n 0.0,\n 1.0,\n 1.0,\n 1.0,\n 1.0,\n 1.0,\n 1.0,\n 0.0,\n 0.0,\n 1.0,\n 1.0,\n 1.0,\n 1.0,\n 1.0,\n 0.0,\n 1.0,\n 0.0,\n 0.0,\n 1.0,\n 1.0,\n 1.0,\n 1.0,\n 1.0,\n 1.0,\n 0.0,\n 0.0,\n 1.0,\n 1.0,\n 1.0,\n 1.0,\n 1.0,\n 1.0,\n 1.0,\n 1.0,\n 1.0,\n 0.0,\n 0.0,\n 1.0,\n 1.0,\n 0.0,\n 1.0,\n 1.0,\n 0.0,\n 0.0,\n 0.0,\n 0.0,\n 1.0,\n 0.0,\n 0.0,\n 0.0,\n 0.0,\n 1.0,\n 1.0,\n 1.0,\n 1.0,\n 0.0,\n 1.0,\n 0.0,\n 0.0,\n 1.0,\n 1.0,\n 0.0,\n 1.0,\n 1.0,\n 1.0,\n 0.0,\n 1.0,\n 0.0,\n 0.0,\n 1.0,\n 0.0,\n 0.0,\n 1.0,\n 1.0,\n 1.0,\n 1.0,\n 1.0,\n 1.0,\n 1.0,\n 1.0,\n 1.0,\n 0.0,\n 1.0,\n 1.0,\n 1.0,\n 1.0,\n 1.0,\n 1.0,\n 0.0,\n 0.0,\n 1.0,\n 1.0,\n 1.0,\n 0.0,\n 0.0,\n 1.0,\n 1.0,\n 0.0,\n 0.0,\n 0.0,\n 0.0,\n 1.0,\n 0.0,\n 1.0,\n 1.0,\n 1.0,\n 1.0,\n 0.0,\n 1.0,\n 0.0,\n 1.0,\n 0.0,\n 1.0,\n 0.0,\n 1.0,\n 1.0,\n 0.0,\n 0.0,\n 1.0,\n 0.0,\n 1.0,\n 1.0,\n 1.0,\n 1.0,\n 1.0,\n 1.0,\n 1.0,\n 0.0,\n 1.0,\n 0.0,\n 1.0,\n 1.0,\n 1.0,\n 1.0,\n 0.0,\n 1.0,\n 0.0,\n 1.0,\n 1.0,\n 1.0,\n 1.0,\n 1.0,\n 0.0,\n 1.0,\n 1.0,\n 1.0,\n 0.0,\n 0.0,\n 1.0,\n 0.0,\n 1.0,\n 1.0,\n 1.0,\n 1.0,\n 1.0,\n 1.0,\n 1.0,\n 1.0,\n 1.0,\n 0.0,\n 1.0,\n 1.0,\n 1.0,\n 0.0,\n 1.0,\n 1.0,\n 0.0,\n 0.0,\n 1.0,\n 0.0,\n 1.0,\n 0.0,\n 1.0,\n 1.0,\n 0.0,\n 1.0,\n 1.0,\n 0.0,\n 1.0,\n 1.0,\n 1.0,\n 1.0,\n 0.0,\n 0.0,\n 0.0,\n 1.0,\n 0.0,\n 1.0,\n 1.0,\n 1.0,\n 1.0,\n 1.0,\n 0.0,\n 0.0,\n 0.0,\n 1.0,\n 1.0,\n 1.0,\n 0.0,\n 1.0,\n 0.0,\n 0.0,\n 1.0,\n 1.0,\n 1.0,\n 1.0,\n 1.0,\n 1.0,\n 1.0,\n 1.0,\n 1.0,\n 1.0,\n 1.0,\n 1.0,\n 0.0,\n 1.0,\n 1.0,\n 1.0,\n 1.0,\n 1.0,\n 0.0,\n 1.0,\n 0.0,\n 1.0,\n 1.0,\n 0.0,\n 1.0,\n 0.0,\n 1.0,\n 0.0,\n 1.0,\n 0.0,\n 1.0,\n 1.0,\n 1.0,\n 0.0,\n 0.0,\n 1.0,\n 1.0,\n 1.0,\n 0.0,\n 1.0,\n 1.0,\n 1.0,\n 0.0,\n 1.0,\n 1.0,\n 1.0,\n 1.0,\n 1.0,\n 1.0,\n 1.0,\n 0.0,\n 1.0,\n 0.0,\n 1.0,\n 1.0,\n 0.0,\n 0.0,\n 1.0,\n 0.0,\n 0.0,\n 1.0,\n 1.0,\n 0.0,\n 0.0,\n 1.0,\n 0.0,\n 0.0,\n 1.0,\n 1.0,\n 1.0,\n 1.0,\n 1.0,\n 1.0,\n 1.0,\n 1.0,\n 1.0,\n 0.0,\n 1.0,\n 1.0,\n 1.0,\n 1.0,\n 0.0,\n 0.0,\n 0.0,\n 0.0,\n 1.0,\n 1.0,\n 1.0,\n 1.0,\n 1.0,\n 0.0,\n 1.0,\n 1.0,\n 0.0,\n 0.0,\n 0.0,\n 0.0,\n 1.0,\n 1.0,\n 1.0,\n 0.0,\n 0.0,\n 1.0,\n 1.0,\n 1.0,\n 1.0,\n 0.0,\n 0.0,\n 1.0,\n 1.0,\n 0.0,\n 1.0,\n 0.0,\n 1.0,\n 1.0,\n 0.0,\n 0.0,\n 1.0,\n 1.0,\n 1.0,\n 1.0,\n 0.0,\n 1.0,\n 0.0,\n 1.0,\n 0.0,\n 0.0,\n 0.0,\n 1.0,\n 0.0,\n 0.0,\n 1.0,\n 0.0,\n 1.0,\n 1.0,\n 0.0,\n 0.0,\n 1.0,\n 1.0,\n 0.0,\n 1.0,\n 0.0,\n 0.0,\n 1.0,\n 1.0,\n 1.0,\n 1.0,\n 1.0,\n 1.0,\n 1.0,\n 1.0,\n 1.0,\n 1.0,\n 1.0,\n 0.0,\n 1.0,\n 1.0,\n 1.0,\n 0.0,\n 0.0,\n 0.0,\n 1.0,\n 0.0,\n 1.0,\n 1.0,\n 1.0,\n 0.0,\n 1.0,\n 0.0,\n 1.0,\n 0.0,\n 1.0,\n 1.0,\n 1.0,\n 1.0,\n 1.0,\n 1.0,\n 1.0,\n 0.0,\n 1.0,\n 1.0,\n 0.0,\n 1.0,\n 0.0,\n 0.0,\n 1.0,\n 0.0,\n 1.0,\n 0.0,\n 1.0,\n 0.0,\n 0.0,\n 1.0,\n 1.0,\n 1.0,\n 1.0,\n 1.0,\n 1.0,\n 0.0,\n 0.0,\n 0.0,\n 1.0,\n 1.0,\n 1.0,\n 1.0,\n 1.0,\n 1.0,\n 1.0,\n 1.0,\n 0.0,\n 0.0,\n 1.0,\n 1.0,\n 1.0,\n 0.0,\n 1.0,\n 0.0,\n 1.0,\n 1.0,\n 1.0,\n 1.0,\n 1.0,\n 0.0,\n 0.0,\n 0.0,\n 0.0,\n 1.0,\n 1.0,\n 0.0,\n 1.0,\n 0.0,\n 0.0,\n 1.0,\n 0.0,\n 0.0,\n 0.0,\n 0.0,\n 1.0,\n 0.0,\n 1.0,\n 0.0,\n 1.0,\n 1.0,\n 0.0,\n 1.0,\n 0.0,\n 0.0,\n 1.0,\n 0.0,\n 0.0,\n 0.0,\n 1.0,\n 0.0,\n 0.0,\n 1.0,\n 0.0,\n 0.0,\n 1.0,\n 0.0,\n 0.0,\n 1.0,\n 1.0,\n 1.0,\n 1.0,\n 1.0,\n 0.0,\n 0.0,\n 1.0,\n 1.0,\n 0.0,\n 1.0,\n 1.0,\n 0.0,\n 1.0,\n 1.0,\n 1.0,\n 1.0,\n 1.0,\n 1.0,\n 0.0,\n 1.0,\n 0.0,\n 1.0,\n 1.0,\n 0.0,\n 1.0,\n 1.0,\n 1.0,\n 1.0,\n 1.0,\n 1.0,\n 1.0,\n 0.0,\n 0.0,\n 0.0,\n 1.0,\n 0.0,\n 1.0,\n 1.0,\n 1.0,\n 0.0,\n 1.0,\n 0.0,\n 0.0,\n 1.0,\n 1.0,\n 0.0,\n 0.0,\n 0.0,\n 1.0,\n 1.0,\n 1.0,\n 1.0,\n 0.0,\n 0.0,\n 0.0,\n 1.0,\n 1.0,\n 1.0,\n 0.0,\n 0.0,\n 0.0,\n 1.0,\n 1.0,\n 1.0,\n 1.0,\n 1.0,\n 0.0,\n 1.0,\n 1.0,\n 0.0,\n 0.0,\n 0.0,\n 1.0,\n 1.0,\n 1.0,\n 0.0,\n 1.0,\n 1.0,\n 0.0,\n 0.0,\n 1.0,\n 0.0,\n 0.0,\n 1.0,\n 0.0,\n 1.0,\n 1.0,\n 0.0,\n 0.0,\n 0.0,\n 1.0,\n 0.0,\n 1.0,\n 0.0,\n 0.0,\n 1.0,\n 1.0,\n 0.0,\n 1.0,\n 1.0,\n 1.0,\n 1.0,\n 0.0,\n 1.0,\n 1.0,\n 1.0,\n 0.0,\n 0.0,\n 1.0,\n 1.0,\n 0.0,\n 1.0,\n 1.0,\n 0.0,\n 1.0,\n 0.0,\n 0.0,\n 1.0,\n 0.0,\n 0.0,\n 0.0,\n 1.0,\n 1.0,\n 0.0,\n 0.0,\n 0.0,\n 1.0,\n 1.0,\n 1.0,\n 1.0,\n 1.0,\n 1.0,\n 0.0,\n 0.0,\n 1.0,\n 1.0,\n 1.0,\n 1.0,\n 0.0,\n 0.0,\n 0.0,\n 0.0,\n 0.0,\n 0.0,\n 1.0,\n 1.0,\n 1.0,\n 1.0,\n 1.0,\n 0.0,\n 1.0,\n 1.0,\n 1.0,\n 1.0,\n 1.0,\n 0.0,\n 0.0,\n 1.0,\n 1.0,\n 0.0,\n 1.0,\n 0.0,\n 0.0,\n 0.0,\n 0.0,\n 0.0,\n 1.0,\n 0.0,\n 1.0,\n 1.0,\n 1.0,\n 0.0,\n 1.0,\n 1.0,\n 1.0,\n 1.0,\n 1.0,\n 1.0,\n 1.0,\n 0.0,\n 1.0,\n 1.0,\n 1.0,\n 1.0,\n 0.0,\n 0.0,\n 0.0,\n 1.0,\n 1.0,\n 0.0,\n 0.0,\n 0.0,\n 1.0,\n 0.0,\n 1.0,\n 1.0,\n 1.0,\n 0.0,\n 0.0,\n 0.0,\n 1.0,\n 1.0,\n 0.0,\n 0.0,\n 0.0,\n 1.0,\n 1.0,\n 1.0,\n 0.0,\n 0.0,\n 1.0,\n 0.0,\n 0.0,\n 0.0,\n 1.0,\n 1.0,\n 1.0,\n 0.0,\n 0.0,\n 1.0,\n 1.0,\n 1.0,\n 1.0,\n 1.0,\n 1.0,\n 0.0,\n 1.0,\n 1.0,\n 0.0,\n 1.0,\n 1.0,\n 1.0,\n 1.0,\n 1.0,\n 1.0,\n 0.0,\n 1.0,\n 1.0,\n 0.0,\n 1.0,\n 1.0,\n 0.0,\n 1.0,\n 1.0,\n 1.0,\n 0.0,\n 1.0,\n 0.0,\n 1.0,\n 0.0,\n 1.0,\n 0.0,\n 1.0,\n 0.0,\n 0.0,\n 1.0,\n 1.0,\n 1.0,\n 1.0,\n 0.0,\n 1.0,\n 1.0,\n 1.0,\n 1.0,\n 1.0,\n 1.0,\n 1.0,\n 1.0,\n 1.0,\n 1.0,\n 1.0,\n 1.0,\n 1.0,\n 0.0,\n 1.0,\n 1.0,\n 1.0,\n 0.0,\n 0.0,\n 1.0,\n 1.0,\n 0.0,\n 0.0,\n 0.0,\n 0.0,\n 0.0,\n 1.0,\n 1.0,\n 0.0,\n 0.0,\n 1.0,\n 0.0,\n 1.0,\n 1.0,\n 1.0,\n 0.0,\n 1.0,\n 0.0,\n ...]"
          },
          "metadata": {}
        }
      ]
    },
    {
      "metadata": {
        "trusted": true
      },
      "cell_type": "code",
      "source": "y_pred",
      "execution_count": 138,
      "outputs": [
        {
          "output_type": "execute_result",
          "execution_count": 138,
          "data": {
            "text/plain": "array([[0.23687896],\n       [0.6295891 ],\n       [0.89691466],\n       ...,\n       [0.9371897 ],\n       [0.89556605],\n       [0.05770666]], dtype=float32)"
          },
          "metadata": {}
        }
      ]
    },
    {
      "metadata": {
        "trusted": true
      },
      "cell_type": "code",
      "source": "",
      "execution_count": null,
      "outputs": []
    },
    {
      "metadata": {
        "trusted": true
      },
      "cell_type": "code",
      "source": "",
      "execution_count": null,
      "outputs": []
    }
  ],
  "metadata": {
    "kernelspec": {
      "name": "python36",
      "display_name": "Python 3.6",
      "language": "python"
    },
    "language_info": {
      "mimetype": "text/x-python",
      "nbconvert_exporter": "python",
      "name": "python",
      "pygments_lexer": "ipython3",
      "version": "3.6.6",
      "file_extension": ".py",
      "codemirror_mode": {
        "version": 3,
        "name": "ipython"
      }
    }
  },
  "nbformat": 4,
  "nbformat_minor": 1
}