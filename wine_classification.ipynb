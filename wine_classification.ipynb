{
  "cells": [
    {
      "metadata": {
        "trusted": true
      },
      "cell_type": "code",
      "source": "import keras",
      "execution_count": 94,
      "outputs": []
    },
    {
      "metadata": {
        "trusted": true
      },
      "cell_type": "code",
      "source": "import numpy as np\nimport pandas as pd\nfrom sklearn.preprocessing import LabelEncoder\nfrom sklearn.model_selection import cross_val_score\nfrom sklearn.model_selection import KFold\nfrom keras.wrappers.scikit_learn import KerasClassifier",
      "execution_count": 95,
      "outputs": []
    },
    {
      "metadata": {
        "trusted": true
      },
      "cell_type": "code",
      "source": "!ls ~/library",
      "execution_count": 96,
      "outputs": [
        {
          "output_type": "stream",
          "text": "data.csv  README.md  Untitled 1.ipynb  Untitled.ipynb  winequality-white.csv\r\n",
          "name": "stdout"
        }
      ]
    },
    {
      "metadata": {
        "trusted": true
      },
      "cell_type": "code",
      "source": "dataset = pd.read_csv(\"~/library/winequality-white.csv\",sep=\";\")",
      "execution_count": 97,
      "outputs": []
    },
    {
      "metadata": {
        "trusted": true
      },
      "cell_type": "code",
      "source": "dataset.describe()",
      "execution_count": 98,
      "outputs": [
        {
          "output_type": "execute_result",
          "execution_count": 98,
          "data": {
            "text/html": "<div>\n<style scoped>\n    .dataframe tbody tr th:only-of-type {\n        vertical-align: middle;\n    }\n\n    .dataframe tbody tr th {\n        vertical-align: top;\n    }\n\n    .dataframe thead th {\n        text-align: right;\n    }\n</style>\n<table border=\"1\" class=\"dataframe\">\n  <thead>\n    <tr style=\"text-align: right;\">\n      <th></th>\n      <th>fixed acidity</th>\n      <th>volatile acidity</th>\n      <th>citric acid</th>\n      <th>residual sugar</th>\n      <th>chlorides</th>\n      <th>free sulfur dioxide</th>\n      <th>total sulfur dioxide</th>\n      <th>density</th>\n      <th>pH</th>\n      <th>sulphates</th>\n      <th>alcohol</th>\n      <th>quality</th>\n    </tr>\n  </thead>\n  <tbody>\n    <tr>\n      <th>count</th>\n      <td>4898.000000</td>\n      <td>4898.000000</td>\n      <td>4898.000000</td>\n      <td>4898.000000</td>\n      <td>4898.000000</td>\n      <td>4898.000000</td>\n      <td>4898.000000</td>\n      <td>4898.000000</td>\n      <td>4898.000000</td>\n      <td>4898.000000</td>\n      <td>4898.000000</td>\n      <td>4898.000000</td>\n    </tr>\n    <tr>\n      <th>mean</th>\n      <td>6.854788</td>\n      <td>0.278241</td>\n      <td>0.334192</td>\n      <td>6.391415</td>\n      <td>0.045772</td>\n      <td>35.308085</td>\n      <td>138.360657</td>\n      <td>0.994027</td>\n      <td>3.188267</td>\n      <td>0.489847</td>\n      <td>10.514267</td>\n      <td>5.877909</td>\n    </tr>\n    <tr>\n      <th>std</th>\n      <td>0.843868</td>\n      <td>0.100795</td>\n      <td>0.121020</td>\n      <td>5.072058</td>\n      <td>0.021848</td>\n      <td>17.007137</td>\n      <td>42.498065</td>\n      <td>0.002991</td>\n      <td>0.151001</td>\n      <td>0.114126</td>\n      <td>1.230621</td>\n      <td>0.885639</td>\n    </tr>\n    <tr>\n      <th>min</th>\n      <td>3.800000</td>\n      <td>0.080000</td>\n      <td>0.000000</td>\n      <td>0.600000</td>\n      <td>0.009000</td>\n      <td>2.000000</td>\n      <td>9.000000</td>\n      <td>0.987110</td>\n      <td>2.720000</td>\n      <td>0.220000</td>\n      <td>8.000000</td>\n      <td>3.000000</td>\n    </tr>\n    <tr>\n      <th>25%</th>\n      <td>6.300000</td>\n      <td>0.210000</td>\n      <td>0.270000</td>\n      <td>1.700000</td>\n      <td>0.036000</td>\n      <td>23.000000</td>\n      <td>108.000000</td>\n      <td>0.991723</td>\n      <td>3.090000</td>\n      <td>0.410000</td>\n      <td>9.500000</td>\n      <td>5.000000</td>\n    </tr>\n    <tr>\n      <th>50%</th>\n      <td>6.800000</td>\n      <td>0.260000</td>\n      <td>0.320000</td>\n      <td>5.200000</td>\n      <td>0.043000</td>\n      <td>34.000000</td>\n      <td>134.000000</td>\n      <td>0.993740</td>\n      <td>3.180000</td>\n      <td>0.470000</td>\n      <td>10.400000</td>\n      <td>6.000000</td>\n    </tr>\n    <tr>\n      <th>75%</th>\n      <td>7.300000</td>\n      <td>0.320000</td>\n      <td>0.390000</td>\n      <td>9.900000</td>\n      <td>0.050000</td>\n      <td>46.000000</td>\n      <td>167.000000</td>\n      <td>0.996100</td>\n      <td>3.280000</td>\n      <td>0.550000</td>\n      <td>11.400000</td>\n      <td>6.000000</td>\n    </tr>\n    <tr>\n      <th>max</th>\n      <td>14.200000</td>\n      <td>1.100000</td>\n      <td>1.660000</td>\n      <td>65.800000</td>\n      <td>0.346000</td>\n      <td>289.000000</td>\n      <td>440.000000</td>\n      <td>1.038980</td>\n      <td>3.820000</td>\n      <td>1.080000</td>\n      <td>14.200000</td>\n      <td>9.000000</td>\n    </tr>\n  </tbody>\n</table>\n</div>",
            "text/plain": "       fixed acidity  volatile acidity  citric acid  residual sugar  \\\ncount    4898.000000       4898.000000  4898.000000     4898.000000   \nmean        6.854788          0.278241     0.334192        6.391415   \nstd         0.843868          0.100795     0.121020        5.072058   \nmin         3.800000          0.080000     0.000000        0.600000   \n25%         6.300000          0.210000     0.270000        1.700000   \n50%         6.800000          0.260000     0.320000        5.200000   \n75%         7.300000          0.320000     0.390000        9.900000   \nmax        14.200000          1.100000     1.660000       65.800000   \n\n         chlorides  free sulfur dioxide  total sulfur dioxide      density  \\\ncount  4898.000000          4898.000000           4898.000000  4898.000000   \nmean      0.045772            35.308085            138.360657     0.994027   \nstd       0.021848            17.007137             42.498065     0.002991   \nmin       0.009000             2.000000              9.000000     0.987110   \n25%       0.036000            23.000000            108.000000     0.991723   \n50%       0.043000            34.000000            134.000000     0.993740   \n75%       0.050000            46.000000            167.000000     0.996100   \nmax       0.346000           289.000000            440.000000     1.038980   \n\n                pH    sulphates      alcohol      quality  \ncount  4898.000000  4898.000000  4898.000000  4898.000000  \nmean      3.188267     0.489847    10.514267     5.877909  \nstd       0.151001     0.114126     1.230621     0.885639  \nmin       2.720000     0.220000     8.000000     3.000000  \n25%       3.090000     0.410000     9.500000     5.000000  \n50%       3.180000     0.470000    10.400000     6.000000  \n75%       3.280000     0.550000    11.400000     6.000000  \nmax       3.820000     1.080000    14.200000     9.000000  "
          },
          "metadata": {}
        }
      ]
    },
    {
      "metadata": {
        "trusted": true
      },
      "cell_type": "code",
      "source": "print(dataset.isnull().sum())",
      "execution_count": 99,
      "outputs": [
        {
          "output_type": "stream",
          "text": "fixed acidity           0\nvolatile acidity        0\ncitric acid             0\nresidual sugar          0\nchlorides               0\nfree sulfur dioxide     0\ntotal sulfur dioxide    0\ndensity                 0\npH                      0\nsulphates               0\nalcohol                 0\nquality                 0\ndtype: int64\n",
          "name": "stdout"
        }
      ]
    },
    {
      "metadata": {
        "trusted": true
      },
      "cell_type": "code",
      "source": "X = dataset.iloc[:,0:11].values",
      "execution_count": 100,
      "outputs": []
    },
    {
      "metadata": {
        "trusted": true
      },
      "cell_type": "code",
      "source": "Y = dataset.iloc[:,11].values",
      "execution_count": 101,
      "outputs": []
    },
    {
      "metadata": {
        "trusted": true
      },
      "cell_type": "code",
      "source": "encoder = LabelEncoder()\nencoder.fit(Y)\nprint(Y)",
      "execution_count": 102,
      "outputs": [
        {
          "output_type": "stream",
          "text": "[6 6 6 ... 6 7 6]\n",
          "name": "stdout"
        }
      ]
    },
    {
      "metadata": {
        "trusted": true
      },
      "cell_type": "code",
      "source": "from keras.utils import np_utils\nencoded_Y = encoder.transform(Y)\n# convert integers to dummy variables (i.e. one hot encoded)\ndummy_y = np_utils.to_categorical(encoded_Y)",
      "execution_count": 103,
      "outputs": []
    },
    {
      "metadata": {
        "trusted": true
      },
      "cell_type": "code",
      "source": "from sklearn.preprocessing import Imputer",
      "execution_count": 104,
      "outputs": []
    },
    {
      "metadata": {
        "trusted": true
      },
      "cell_type": "code",
      "source": "print(dummy_y[1])\nprint(X[1])",
      "execution_count": 105,
      "outputs": [
        {
          "output_type": "stream",
          "text": "[0. 0. 0. 1. 0. 0. 0.]\n[6.30e+00 3.00e-01 3.40e-01 1.60e+00 4.90e-02 1.40e+01 1.32e+02 9.94e-01\n 3.30e+00 4.90e-01 9.50e+00]\n",
          "name": "stdout"
        }
      ]
    },
    {
      "metadata": {
        "trusted": true
      },
      "cell_type": "code",
      "source": "from sklearn.model_selection import train_test_split",
      "execution_count": 106,
      "outputs": []
    },
    {
      "metadata": {
        "trusted": true
      },
      "cell_type": "code",
      "source": "X_train,X_test,Y_train,Y_test = train_test_split(X,dummy_y,test_size = 0.20,random_state = 0)",
      "execution_count": 107,
      "outputs": []
    },
    {
      "metadata": {
        "trusted": true
      },
      "cell_type": "code",
      "source": "import keras",
      "execution_count": 108,
      "outputs": []
    },
    {
      "metadata": {
        "trusted": true
      },
      "cell_type": "code",
      "source": "from keras.models import Sequential",
      "execution_count": 109,
      "outputs": []
    },
    {
      "metadata": {
        "trusted": true
      },
      "cell_type": "code",
      "source": "from keras.layers import Dense",
      "execution_count": 110,
      "outputs": []
    },
    {
      "metadata": {
        "trusted": true
      },
      "cell_type": "code",
      "source": "classifier = Sequential()",
      "execution_count": 111,
      "outputs": []
    },
    {
      "metadata": {
        "trusted": true
      },
      "cell_type": "code",
      "source": "classifier.add(Dense(output_dim=6,activation = 'relu', input_dim = 11))",
      "execution_count": 112,
      "outputs": [
        {
          "output_type": "stream",
          "text": "/home/nbuser/anaconda3_501/lib/python3.6/site-packages/ipykernel/__main__.py:1: UserWarning: Update your `Dense` call to the Keras 2 API: `Dense(activation=\"relu\", input_dim=11, units=6)`\n  if __name__ == '__main__':\n",
          "name": "stderr"
        }
      ]
    },
    {
      "metadata": {
        "trusted": true
      },
      "cell_type": "code",
      "source": "classifier.add(Dense(output_dim=6,activation='relu'))",
      "execution_count": 113,
      "outputs": [
        {
          "output_type": "stream",
          "text": "/home/nbuser/anaconda3_501/lib/python3.6/site-packages/ipykernel/__main__.py:1: UserWarning: Update your `Dense` call to the Keras 2 API: `Dense(activation=\"relu\", units=6)`\n  if __name__ == '__main__':\n",
          "name": "stderr"
        }
      ]
    },
    {
      "metadata": {
        "trusted": true
      },
      "cell_type": "code",
      "source": "classifier.add(Dense(output_dim=6,activation='relu'))",
      "execution_count": 114,
      "outputs": [
        {
          "output_type": "stream",
          "text": "/home/nbuser/anaconda3_501/lib/python3.6/site-packages/ipykernel/__main__.py:1: UserWarning: Update your `Dense` call to the Keras 2 API: `Dense(activation=\"relu\", units=6)`\n  if __name__ == '__main__':\n",
          "name": "stderr"
        }
      ]
    },
    {
      "metadata": {
        "trusted": true
      },
      "cell_type": "code",
      "source": "classifier.add(Dense(output_dim=7,activation='softmax'))",
      "execution_count": 115,
      "outputs": [
        {
          "output_type": "stream",
          "text": "/home/nbuser/anaconda3_501/lib/python3.6/site-packages/ipykernel/__main__.py:1: UserWarning: Update your `Dense` call to the Keras 2 API: `Dense(activation=\"softmax\", units=7)`\n  if __name__ == '__main__':\n",
          "name": "stderr"
        }
      ]
    },
    {
      "metadata": {
        "trusted": true
      },
      "cell_type": "code",
      "source": "classifier.compile(optimizer = 'adam',loss = 'mean_squared_error')",
      "execution_count": 116,
      "outputs": []
    },
    {
      "metadata": {
        "trusted": true
      },
      "cell_type": "code",
      "source": "classifier.fit(X_train, Y_train, nb_epoch=100)",
      "execution_count": 121,
      "outputs": [
        {
          "output_type": "stream",
          "text": "/home/nbuser/anaconda3_501/lib/python3.6/site-packages/ipykernel/__main__.py:1: UserWarning: The `nb_epoch` argument in `fit` has been renamed `epochs`.\n  if __name__ == '__main__':\n",
          "name": "stderr"
        },
        {
          "output_type": "stream",
          "text": "Epoch 1/100\n3918/3918 [==============================] - 1s 342us/step - loss: 0.1746\nEpoch 2/100\n3918/3918 [==============================] - 0s 120us/step - loss: 0.1157\nEpoch 3/100\n3918/3918 [==============================] - 0s 114us/step - loss: 0.1155\nEpoch 4/100\n3918/3918 [==============================] - 0s 115us/step - loss: 0.1146\nEpoch 5/100\n3918/3918 [==============================] - 0s 107us/step - loss: 0.1133\nEpoch 6/100\n3918/3918 [==============================] - 1s 129us/step - loss: 0.1131\nEpoch 7/100\n3918/3918 [==============================] - 0s 114us/step - loss: 0.1056\nEpoch 8/100\n3918/3918 [==============================] - 0s 125us/step - loss: 0.0967\nEpoch 9/100\n3918/3918 [==============================] - 0s 117us/step - loss: 0.0960\nEpoch 10/100\n3918/3918 [==============================] - 0s 116us/step - loss: 0.0957\nEpoch 11/100\n3918/3918 [==============================] - 0s 106us/step - loss: 0.0955\nEpoch 12/100\n3918/3918 [==============================] - 0s 107us/step - loss: 0.0952\nEpoch 13/100\n3918/3918 [==============================] - 1s 129us/step - loss: 0.0949\nEpoch 14/100\n3918/3918 [==============================] - 1s 135us/step - loss: 0.0947\nEpoch 15/100\n3918/3918 [==============================] - 1s 144us/step - loss: 0.0945\nEpoch 16/100\n3918/3918 [==============================] - 1s 128us/step - loss: 0.0943\nEpoch 17/100\n3918/3918 [==============================] - 0s 104us/step - loss: 0.0940\nEpoch 18/100\n3918/3918 [==============================] - 0s 99us/step - loss: 0.0938\nEpoch 19/100\n3918/3918 [==============================] - 0s 119us/step - loss: 0.0937\nEpoch 20/100\n3918/3918 [==============================] - 1s 149us/step - loss: 0.0935\nEpoch 21/100\n3918/3918 [==============================] - 1s 144us/step - loss: 0.0935\nEpoch 22/100\n3918/3918 [==============================] - 1s 185us/step - loss: 0.0930\nEpoch 23/100\n3918/3918 [==============================] - 0s 118us/step - loss: 0.0930\nEpoch 24/100\n3918/3918 [==============================] - 0s 126us/step - loss: 0.0928\nEpoch 25/100\n3918/3918 [==============================] - 1s 147us/step - loss: 0.0928\nEpoch 26/100\n3918/3918 [==============================] - 1s 128us/step - loss: 0.0926\nEpoch 27/100\n3918/3918 [==============================] - 0s 114us/step - loss: 0.0928\nEpoch 28/100\n3918/3918 [==============================] - 0s 122us/step - loss: 0.0921\nEpoch 29/100\n3918/3918 [==============================] - 0s 105us/step - loss: 0.0914\nEpoch 30/100\n3918/3918 [==============================] - 0s 122us/step - loss: 0.0912\nEpoch 31/100\n3918/3918 [==============================] - 0s 113us/step - loss: 0.0908\nEpoch 32/100\n3918/3918 [==============================] - 0s 99us/step - loss: 0.0903\nEpoch 33/100\n3918/3918 [==============================] - 0s 91us/step - loss: 0.0902\nEpoch 34/100\n3918/3918 [==============================] - 0s 89us/step - loss: 0.0900\nEpoch 35/100\n3918/3918 [==============================] - 0s 83us/step - loss: 0.0893: 0s - loss: 0.089\nEpoch 36/100\n3918/3918 [==============================] - 0s 100us/step - loss: 0.0897\nEpoch 37/100\n3918/3918 [==============================] - 0s 105us/step - loss: 0.0892\nEpoch 38/100\n3918/3918 [==============================] - 1s 131us/step - loss: 0.0890\nEpoch 39/100\n3918/3918 [==============================] - 0s 124us/step - loss: 0.0886\nEpoch 40/100\n3918/3918 [==============================] - 0s 95us/step - loss: 0.0884\nEpoch 41/100\n3918/3918 [==============================] - 0s 105us/step - loss: 0.0893\nEpoch 42/100\n3918/3918 [==============================] - 0s 96us/step - loss: 0.0886\nEpoch 43/100\n3918/3918 [==============================] - 0s 107us/step - loss: 0.0884\nEpoch 44/100\n3918/3918 [==============================] - 0s 121us/step - loss: 0.0877\nEpoch 45/100\n3918/3918 [==============================] - 0s 126us/step - loss: 0.0877\nEpoch 46/100\n3918/3918 [==============================] - 0s 118us/step - loss: 0.0877\nEpoch 47/100\n3918/3918 [==============================] - 0s 114us/step - loss: 0.0876\nEpoch 48/100\n3918/3918 [==============================] - 0s 94us/step - loss: 0.0877\nEpoch 49/100\n3918/3918 [==============================] - 0s 88us/step - loss: 0.0873\nEpoch 50/100\n3918/3918 [==============================] - 0s 113us/step - loss: 0.0873\nEpoch 51/100\n3918/3918 [==============================] - 0s 105us/step - loss: 0.0874\nEpoch 52/100\n3918/3918 [==============================] - 0s 114us/step - loss: 0.0873\nEpoch 53/100\n3918/3918 [==============================] - 1s 142us/step - loss: 0.0876\nEpoch 54/100\n3918/3918 [==============================] - 0s 107us/step - loss: 0.0866\nEpoch 55/100\n3918/3918 [==============================] - 1s 139us/step - loss: 0.0870\nEpoch 56/100\n3918/3918 [==============================] - 1s 141us/step - loss: 0.0868\nEpoch 57/100\n3918/3918 [==============================] - 0s 125us/step - loss: 0.0868\nEpoch 58/100\n3918/3918 [==============================] - 1s 154us/step - loss: 0.0868\nEpoch 59/100\n3918/3918 [==============================] - 1s 134us/step - loss: 0.0871\nEpoch 60/100\n3918/3918 [==============================] - 1s 142us/step - loss: 0.0873\nEpoch 61/100\n3918/3918 [==============================] - 0s 125us/step - loss: 0.0868\nEpoch 62/100\n3918/3918 [==============================] - 0s 108us/step - loss: 0.0863\nEpoch 63/100\n3918/3918 [==============================] - 0s 117us/step - loss: 0.0865\nEpoch 64/100\n3918/3918 [==============================] - 0s 111us/step - loss: 0.0870\nEpoch 65/100\n3918/3918 [==============================] - 0s 102us/step - loss: 0.0864\nEpoch 66/100\n3918/3918 [==============================] - 0s 120us/step - loss: 0.0862\nEpoch 67/100\n3918/3918 [==============================] - 0s 122us/step - loss: 0.0864\nEpoch 68/100\n3918/3918 [==============================] - 0s 114us/step - loss: 0.0865\nEpoch 69/100\n3918/3918 [==============================] - 0s 95us/step - loss: 0.0861\nEpoch 70/100\n3918/3918 [==============================] - 0s 102us/step - loss: 0.0864\nEpoch 71/100\n3918/3918 [==============================] - 0s 117us/step - loss: 0.0860\nEpoch 72/100\n3918/3918 [==============================] - 0s 100us/step - loss: 0.0862\nEpoch 73/100\n3918/3918 [==============================] - 1s 137us/step - loss: 0.0863\nEpoch 74/100\n3918/3918 [==============================] - 0s 123us/step - loss: 0.0862\nEpoch 75/100\n3918/3918 [==============================] - 0s 106us/step - loss: 0.0870\nEpoch 76/100\n3918/3918 [==============================] - 0s 97us/step - loss: 0.0860\nEpoch 77/100\n3918/3918 [==============================] - 0s 78us/step - loss: 0.0864\nEpoch 78/100\n3918/3918 [==============================] - 0s 85us/step - loss: 0.0865\nEpoch 79/100\n3918/3918 [==============================] - 0s 87us/step - loss: 0.0859\nEpoch 80/100\n3918/3918 [==============================] - 0s 102us/step - loss: 0.0865\nEpoch 81/100\n3918/3918 [==============================] - 0s 86us/step - loss: 0.0858\nEpoch 82/100\n3918/3918 [==============================] - 0s 107us/step - loss: 0.0860\nEpoch 83/100\n3918/3918 [==============================] - 0s 85us/step - loss: 0.0860\nEpoch 84/100\n3918/3918 [==============================] - 0s 81us/step - loss: 0.0859\nEpoch 85/100\n3918/3918 [==============================] - 0s 87us/step - loss: 0.0857\nEpoch 86/100\n3918/3918 [==============================] - 0s 106us/step - loss: 0.0856\nEpoch 87/100\n3918/3918 [==============================] - 0s 109us/step - loss: 0.0854\nEpoch 88/100\n3918/3918 [==============================] - 0s 108us/step - loss: 0.0864\nEpoch 89/100\n3918/3918 [==============================] - 0s 88us/step - loss: 0.0861\nEpoch 90/100\n3918/3918 [==============================] - 0s 86us/step - loss: 0.0859\nEpoch 91/100\n3918/3918 [==============================] - 0s 88us/step - loss: 0.0857\nEpoch 92/100\n3918/3918 [==============================] - 0s 81us/step - loss: 0.0858\nEpoch 93/100\n3918/3918 [==============================] - 0s 91us/step - loss: 0.0862\nEpoch 94/100\n3918/3918 [==============================] - 0s 89us/step - loss: 0.0853\nEpoch 95/100\n",
          "name": "stdout"
        },
        {
          "output_type": "stream",
          "text": "3918/3918 [==============================] - 0s 94us/step - loss: 0.0855\nEpoch 96/100\n3918/3918 [==============================] - 0s 93us/step - loss: 0.0856\nEpoch 97/100\n3918/3918 [==============================] - 0s 85us/step - loss: 0.0862\nEpoch 98/100\n3918/3918 [==============================] - 0s 96us/step - loss: 0.0862\nEpoch 99/100\n3918/3918 [==============================] - 0s 114us/step - loss: 0.0858\nEpoch 100/100\n3918/3918 [==============================] - 0s 99us/step - loss: 0.0856\n",
          "name": "stdout"
        },
        {
          "output_type": "execute_result",
          "execution_count": 121,
          "data": {
            "text/plain": "<keras.callbacks.History at 0x7fa771678160>"
          },
          "metadata": {}
        }
      ]
    },
    {
      "metadata": {
        "trusted": true
      },
      "cell_type": "code",
      "source": "y_pred = classifier.predict(X_test)",
      "execution_count": 122,
      "outputs": []
    },
    {
      "metadata": {
        "trusted": true
      },
      "cell_type": "code",
      "source": "y_pred[1]",
      "execution_count": 126,
      "outputs": [
        {
          "output_type": "execute_result",
          "execution_count": 126,
          "data": {
            "text/plain": "array([8.8061980e-04, 2.4988901e-02, 3.5958734e-01, 5.0803971e-01,\n       9.5965385e-02, 1.0538167e-02, 6.0322991e-10], dtype=float32)"
          },
          "metadata": {}
        }
      ]
    },
    {
      "metadata": {
        "trusted": true
      },
      "cell_type": "code",
      "source": "\nscore = classifier.evaluate(X_test, Y_test)\n",
      "execution_count": 144,
      "outputs": [
        {
          "output_type": "stream",
          "text": "980/980 [==============================] - 0s 68us/step\n",
          "name": "stdout"
        }
      ]
    },
    {
      "metadata": {},
      "cell_type": "markdown",
      "source": ""
    },
    {
      "metadata": {
        "trusted": true
      },
      "cell_type": "code",
      "source": "score",
      "execution_count": 145,
      "outputs": [
        {
          "output_type": "execute_result",
          "execution_count": 145,
          "data": {
            "text/plain": "0.09135198720863887"
          },
          "metadata": {}
        }
      ]
    },
    {
      "metadata": {
        "trusted": true
      },
      "cell_type": "code",
      "source": "Y_test",
      "execution_count": 143,
      "outputs": [
        {
          "output_type": "execute_result",
          "execution_count": 143,
          "data": {
            "text/plain": "array([[0., 0., 1., ..., 0., 0., 0.],\n       [0., 0., 0., ..., 0., 0., 0.],\n       [0., 0., 0., ..., 1., 0., 0.],\n       ...,\n       [0., 0., 0., ..., 0., 0., 0.],\n       [0., 0., 0., ..., 0., 0., 0.],\n       [0., 1., 0., ..., 0., 0., 0.]], dtype=float32)"
          },
          "metadata": {}
        }
      ]
    },
    {
      "metadata": {
        "trusted": true
      },
      "cell_type": "code",
      "source": "",
      "execution_count": null,
      "outputs": []
    }
  ],
  "metadata": {
    "kernelspec": {
      "name": "python36",
      "display_name": "Python 3.6",
      "language": "python"
    },
    "language_info": {
      "mimetype": "text/x-python",
      "nbconvert_exporter": "python",
      "name": "python",
      "pygments_lexer": "ipython3",
      "version": "3.6.6",
      "file_extension": ".py",
      "codemirror_mode": {
        "version": 3,
        "name": "ipython"
      }
    }
  },
  "nbformat": 4,
  "nbformat_minor": 1
}